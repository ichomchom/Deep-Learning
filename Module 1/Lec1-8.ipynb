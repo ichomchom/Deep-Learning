{
 "cells": [
  {
   "cell_type": "code",
   "execution_count": 1,
   "metadata": {},
   "outputs": [
    {
     "name": "stderr",
     "output_type": "stream",
     "text": [
      "/Users/hphan10/Dropbox/Documents/MSAI/Deep-Learning/.venv/lib/python3.12/site-packages/torch/_subclasses/functional_tensor.py:295: UserWarning: Failed to initialize NumPy: No module named 'numpy' (Triggered internally at /Users/runner/work/pytorch/pytorch/pytorch/torch/csrc/utils/tensor_numpy.cpp:84.)\n",
      "  cpu = _conversion_method_template(device=torch.device(\"cpu\"))\n"
     ]
    }
   ],
   "source": [
    "import torch"
   ]
  },
  {
   "cell_type": "code",
   "execution_count": 2,
   "metadata": {},
   "outputs": [
    {
     "name": "stdout",
     "output_type": "stream",
     "text": [
      "tensor([1., 2., 3.])\n"
     ]
    }
   ],
   "source": [
    "a = torch.tensor([1.0, 2, 3], dtype=torch.float32)\n",
    "print(a)"
   ]
  },
  {
   "cell_type": "code",
   "execution_count": 3,
   "metadata": {},
   "outputs": [
    {
     "name": "stdout",
     "output_type": "stream",
     "text": [
      "tensor([[[0.1098, 0.7664, 0.1831],\n",
      "         [0.9706, 0.1117, 0.0971],\n",
      "         [0.3527, 0.4859, 0.1823]],\n",
      "\n",
      "        [[0.9162, 0.4673, 0.1936],\n",
      "         [0.9402, 0.9664, 0.5480],\n",
      "         [0.0869, 0.5404, 0.7167]],\n",
      "\n",
      "        [[0.8869, 0.5433, 0.2253],\n",
      "         [0.3932, 0.1791, 0.0995],\n",
      "         [0.9988, 0.7616, 0.0748]]])\n"
     ]
    }
   ],
   "source": [
    "b = torch.rand([3, 3, 3], dtype=torch.float32)\n",
    "print(b)"
   ]
  },
  {
   "cell_type": "code",
   "execution_count": 17,
   "metadata": {},
   "outputs": [
    {
     "name": "stdout",
     "output_type": "stream",
     "text": [
      "torch.Size([719, 720, 3])\n",
      "torch.float32\n",
      "3\n"
     ]
    }
   ],
   "source": [
    "from PIL import Image\n",
    "import numpy as np\n",
    "\n",
    "img = Image.open('cat.jpg')\n",
    "c = torch.as_tensor(np.array(img)).float()\n",
    "print(c.shape)\n",
    "print(c.dtype)\n",
    "print(c.ndim)"
   ]
  },
  {
   "cell_type": "code",
   "execution_count": 24,
   "metadata": {},
   "outputs": [
    {
     "name": "stdout",
     "output_type": "stream",
     "text": [
      "a = tensor([0, 1, 2, 3, 4, 5, 6, 7, 8, 9]) \n",
      "b = tensor([1., 1., 1., 1., 1., 1., 1., 1., 1., 1.])\n",
      " a ** (2*b) = tensor([ 0.,  1.,  4.,  9., 16., 25., 36., 49., 64., 81.])\n"
     ]
    }
   ],
   "source": [
    "a = torch.arange(10)\n",
    "b = torch.ones(10)\n",
    "print(f'{a = } ')\n",
    "print(f'{b = }')\n",
    "print(f'{ a ** (2*b) = }')\n"
   ]
  },
  {
   "cell_type": "code",
   "execution_count": 25,
   "metadata": {},
   "outputs": [
    {
     "ename": "RuntimeError",
     "evalue": "The size of tensor a (4) must match the size of tensor b (5) at non-singleton dimension 0",
     "output_type": "error",
     "traceback": [
      "\u001b[0;31m---------------------------------------------------------------------------\u001b[0m",
      "\u001b[0;31mRuntimeError\u001b[0m                              Traceback (most recent call last)",
      "Cell \u001b[0;32mIn[25], line 3\u001b[0m\n\u001b[1;32m      1\u001b[0m a \u001b[38;5;241m=\u001b[39m torch\u001b[38;5;241m.\u001b[39mrand(\u001b[38;5;241m4\u001b[39m)\n\u001b[1;32m      2\u001b[0m b \u001b[38;5;241m=\u001b[39m torch\u001b[38;5;241m.\u001b[39mrand(\u001b[38;5;241m5\u001b[39m)\n\u001b[0;32m----> 3\u001b[0m \u001b[38;5;28mprint\u001b[39m( \u001b[43ma\u001b[49m\u001b[43m \u001b[49m\u001b[38;5;241;43m+\u001b[39;49m\u001b[43m \u001b[49m\u001b[43mb\u001b[49m)\n",
      "\u001b[0;31mRuntimeError\u001b[0m: The size of tensor a (4) must match the size of tensor b (5) at non-singleton dimension 0"
     ]
    }
   ],
   "source": [
    "a = torch.rand(4)\n",
    "b = torch.rand(5)\n",
    "print(a + b)"
   ]
  },
  {
   "cell_type": "code",
   "execution_count": 27,
   "metadata": {},
   "outputs": [],
   "source": [
    "a = torch.rand(1_000_000_000)\n",
    "b = torch.rand(1_000_000_000)\n",
    "c = a + b"
   ]
  },
  {
   "cell_type": "code",
   "execution_count": 28,
   "metadata": {},
   "outputs": [
    {
     "name": "stdout",
     "output_type": "stream",
     "text": [
      "645 ms ± 24.7 ms per loop (mean ± std. dev. of 7 runs, 1 loop each)\n"
     ]
    }
   ],
   "source": [
    "%timeit c = a + b"
   ]
  },
  {
   "cell_type": "code",
   "execution_count": 29,
   "metadata": {},
   "outputs": [
    {
     "ename": "OutOfMemoryError",
     "evalue": "CUDA out of memory. Tried to allocate 3.73 GiB. GPU 0 has a total capacity of 10.88 GiB of which 2.32 GiB is free. Including non-PyTorch memory, this process has 7.59 GiB memory in use. Of the allocated memory 7.45 GiB is allocated by PyTorch, and 2.61 MiB is reserved by PyTorch but unallocated. If reserved but unallocated memory is large try setting PYTORCH_CUDA_ALLOC_CONF=expandable_segments:True to avoid fragmentation.  See documentation for Memory Management  (https://pytorch.org/docs/stable/notes/cuda.html#environment-variables)",
     "output_type": "error",
     "traceback": [
      "\u001b[0;31m---------------------------------------------------------------------------\u001b[0m",
      "\u001b[0;31mOutOfMemoryError\u001b[0m                          Traceback (most recent call last)",
      "Cell \u001b[0;32mIn[29], line 3\u001b[0m\n\u001b[1;32m      1\u001b[0m a_gpu \u001b[38;5;241m=\u001b[39m a\u001b[38;5;241m.\u001b[39mto(\u001b[38;5;124m'\u001b[39m\u001b[38;5;124mcuda\u001b[39m\u001b[38;5;124m'\u001b[39m)\n\u001b[1;32m      2\u001b[0m b_gpu \u001b[38;5;241m=\u001b[39m b\u001b[38;5;241m.\u001b[39mto(\u001b[38;5;124m'\u001b[39m\u001b[38;5;124mcuda\u001b[39m\u001b[38;5;124m'\u001b[39m)\n\u001b[0;32m----> 3\u001b[0m \u001b[43mget_ipython\u001b[49m\u001b[43m(\u001b[49m\u001b[43m)\u001b[49m\u001b[38;5;241;43m.\u001b[39;49m\u001b[43mrun_line_magic\u001b[49m\u001b[43m(\u001b[49m\u001b[38;5;124;43m'\u001b[39;49m\u001b[38;5;124;43mtimeit\u001b[39;49m\u001b[38;5;124;43m'\u001b[39;49m\u001b[43m,\u001b[49m\u001b[43m \u001b[49m\u001b[38;5;124;43m'\u001b[39;49m\u001b[38;5;124;43mc_gpu = a_gpu + b_gpu\u001b[39;49m\u001b[38;5;124;43m'\u001b[39;49m\u001b[43m)\u001b[49m\n",
      "File \u001b[0;32m~/Dropbox/Documents/MSAI/Deep-Learning/.venv/lib/python3.12/site-packages/IPython/core/interactiveshell.py:2480\u001b[0m, in \u001b[0;36mInteractiveShell.run_line_magic\u001b[0;34m(self, magic_name, line, _stack_depth)\u001b[0m\n\u001b[1;32m   2478\u001b[0m     kwargs[\u001b[38;5;124m'\u001b[39m\u001b[38;5;124mlocal_ns\u001b[39m\u001b[38;5;124m'\u001b[39m] \u001b[38;5;241m=\u001b[39m \u001b[38;5;28mself\u001b[39m\u001b[38;5;241m.\u001b[39mget_local_scope(stack_depth)\n\u001b[1;32m   2479\u001b[0m \u001b[38;5;28;01mwith\u001b[39;00m \u001b[38;5;28mself\u001b[39m\u001b[38;5;241m.\u001b[39mbuiltin_trap:\n\u001b[0;32m-> 2480\u001b[0m     result \u001b[38;5;241m=\u001b[39m \u001b[43mfn\u001b[49m\u001b[43m(\u001b[49m\u001b[38;5;241;43m*\u001b[39;49m\u001b[43margs\u001b[49m\u001b[43m,\u001b[49m\u001b[43m \u001b[49m\u001b[38;5;241;43m*\u001b[39;49m\u001b[38;5;241;43m*\u001b[39;49m\u001b[43mkwargs\u001b[49m\u001b[43m)\u001b[49m\n\u001b[1;32m   2482\u001b[0m \u001b[38;5;66;03m# The code below prevents the output from being displayed\u001b[39;00m\n\u001b[1;32m   2483\u001b[0m \u001b[38;5;66;03m# when using magics with decorator @output_can_be_silenced\u001b[39;00m\n\u001b[1;32m   2484\u001b[0m \u001b[38;5;66;03m# when the last Python token in the expression is a ';'.\u001b[39;00m\n\u001b[1;32m   2485\u001b[0m \u001b[38;5;28;01mif\u001b[39;00m \u001b[38;5;28mgetattr\u001b[39m(fn, magic\u001b[38;5;241m.\u001b[39mMAGIC_OUTPUT_CAN_BE_SILENCED, \u001b[38;5;28;01mFalse\u001b[39;00m):\n",
      "File \u001b[0;32m~/Dropbox/Documents/MSAI/Deep-Learning/.venv/lib/python3.12/site-packages/IPython/core/magics/execution.py:1195\u001b[0m, in \u001b[0;36mExecutionMagics.timeit\u001b[0;34m(self, line, cell, local_ns)\u001b[0m\n\u001b[1;32m   1193\u001b[0m \u001b[38;5;28;01mfor\u001b[39;00m index \u001b[38;5;129;01min\u001b[39;00m \u001b[38;5;28mrange\u001b[39m(\u001b[38;5;241m0\u001b[39m, \u001b[38;5;241m10\u001b[39m):\n\u001b[1;32m   1194\u001b[0m     number \u001b[38;5;241m=\u001b[39m \u001b[38;5;241m10\u001b[39m \u001b[38;5;241m*\u001b[39m\u001b[38;5;241m*\u001b[39m index\n\u001b[0;32m-> 1195\u001b[0m     time_number \u001b[38;5;241m=\u001b[39m \u001b[43mtimer\u001b[49m\u001b[38;5;241;43m.\u001b[39;49m\u001b[43mtimeit\u001b[49m\u001b[43m(\u001b[49m\u001b[43mnumber\u001b[49m\u001b[43m)\u001b[49m\n\u001b[1;32m   1196\u001b[0m     \u001b[38;5;28;01mif\u001b[39;00m time_number \u001b[38;5;241m>\u001b[39m\u001b[38;5;241m=\u001b[39m \u001b[38;5;241m0.2\u001b[39m:\n\u001b[1;32m   1197\u001b[0m         \u001b[38;5;28;01mbreak\u001b[39;00m\n",
      "File \u001b[0;32m~/Dropbox/Documents/MSAI/Deep-Learning/.venv/lib/python3.12/site-packages/IPython/core/magics/execution.py:173\u001b[0m, in \u001b[0;36mTimer.timeit\u001b[0;34m(self, number)\u001b[0m\n\u001b[1;32m    171\u001b[0m gc\u001b[38;5;241m.\u001b[39mdisable()\n\u001b[1;32m    172\u001b[0m \u001b[38;5;28;01mtry\u001b[39;00m:\n\u001b[0;32m--> 173\u001b[0m     timing \u001b[38;5;241m=\u001b[39m \u001b[38;5;28;43mself\u001b[39;49m\u001b[38;5;241;43m.\u001b[39;49m\u001b[43minner\u001b[49m\u001b[43m(\u001b[49m\u001b[43mit\u001b[49m\u001b[43m,\u001b[49m\u001b[43m \u001b[49m\u001b[38;5;28;43mself\u001b[39;49m\u001b[38;5;241;43m.\u001b[39;49m\u001b[43mtimer\u001b[49m\u001b[43m)\u001b[49m\n\u001b[1;32m    174\u001b[0m \u001b[38;5;28;01mfinally\u001b[39;00m:\n\u001b[1;32m    175\u001b[0m     \u001b[38;5;28;01mif\u001b[39;00m gcold:\n",
      "File \u001b[0;32m<magic-timeit>:1\u001b[0m, in \u001b[0;36minner\u001b[0;34m(_it, _timer)\u001b[0m\n",
      "\u001b[0;31mOutOfMemoryError\u001b[0m: CUDA out of memory. Tried to allocate 3.73 GiB. GPU 0 has a total capacity of 10.88 GiB of which 2.32 GiB is free. Including non-PyTorch memory, this process has 7.59 GiB memory in use. Of the allocated memory 7.45 GiB is allocated by PyTorch, and 2.61 MiB is reserved by PyTorch but unallocated. If reserved but unallocated memory is large try setting PYTORCH_CUDA_ALLOC_CONF=expandable_segments:True to avoid fragmentation.  See documentation for Memory Management  (https://pytorch.org/docs/stable/notes/cuda.html#environment-variables)"
     ]
    }
   ],
   "source": [
    "a_gpu = a.to('cuda')\n",
    "b_gpu = b.to('cuda')\n",
    "%timeit c_gpu = a_gpu + b_gpu"
   ]
  },
  {
   "cell_type": "code",
   "execution_count": 33,
   "metadata": {},
   "outputs": [
    {
     "name": "stdout",
     "output_type": "stream",
     "text": [
      "tensor([0, 1, 2, 3, 4, 5])\n",
      "torch.Size([6])\n",
      "tensor([[0, 1, 2],\n",
      "        [3, 4, 5]])\n",
      "tensor([[0, 1, 2],\n",
      "        [3, 4, 5]])\n"
     ]
    }
   ],
   "source": [
    "a = torch.arange(6)\n",
    "print(a)\n",
    "print(a.shape)\n",
    "print(a.view(2,3))\n",
    "print(a.reshape(2,3))"
   ]
  },
  {
   "cell_type": "code",
   "execution_count": 35,
   "metadata": {},
   "outputs": [
    {
     "name": "stdout",
     "output_type": "stream",
     "text": [
      "tensor([[0.7177, 0.4978, 0.6596],\n",
      "        [0.5476, 0.9416, 0.3792]])\n",
      "tensor([[0.7177, 0.5476],\n",
      "        [0.4978, 0.9416],\n",
      "        [0.6596, 0.3792]])\n"
     ]
    }
   ],
   "source": [
    "a = torch.rand(2, 3)\n",
    "print(a)\n",
    "print(a.mT)"
   ]
  },
  {
   "cell_type": "code",
   "execution_count": 39,
   "metadata": {},
   "outputs": [
    {
     "name": "stdout",
     "output_type": "stream",
     "text": [
      "tensor([[[0.7171, 0.6878, 0.3559, 0.1472],\n",
      "         [0.4094, 0.6893, 0.5885, 0.1162],\n",
      "         [0.7918, 0.1962, 0.3687, 0.5836]],\n",
      "\n",
      "        [[0.4939, 0.4533, 0.5442, 0.6519],\n",
      "         [0.3762, 0.3699, 0.0762, 0.7861],\n",
      "         [0.4480, 0.3796, 0.2892, 0.2823]]])\n",
      "\n",
      "torch.Size([3, 4, 2])\n"
     ]
    }
   ],
   "source": [
    "a = torch.rand(2, 3, 4)\n",
    "print(a)\n",
    "print()\n",
    "print(a.permute(1, 2, 0).shape)"
   ]
  },
  {
   "cell_type": "code",
   "execution_count": 44,
   "metadata": {},
   "outputs": [
    {
     "name": "stdout",
     "output_type": "stream",
     "text": [
      "tensor([[[[0]],\n",
      "\n",
      "         [[1]]],\n",
      "\n",
      "\n",
      "        [[[2]],\n",
      "\n",
      "         [[3]]],\n",
      "\n",
      "\n",
      "        [[[4]],\n",
      "\n",
      "         [[5]]]])\n"
     ]
    }
   ],
   "source": [
    "a = torch.arange(6).view(3, 2, 1, 1)\n",
    "print(a)\n"
   ]
  },
  {
   "cell_type": "code",
   "execution_count": 50,
   "metadata": {},
   "outputs": [
    {
     "name": "stdout",
     "output_type": "stream",
     "text": [
      "a = tensor([[0],\n",
      "        [1],\n",
      "        [2],\n",
      "        [3]])\n",
      "b = tensor([[ 0, 10, 20, 30, 40]])\n",
      "tensor([[  0,   0,   0,   0,   0],\n",
      "        [  0,  10,  20,  30,  40],\n",
      "        [  0,  20,  40,  60,  80],\n",
      "        [  0,  30,  60,  90, 120]])\n"
     ]
    }
   ],
   "source": [
    "a = torch.arange(4).view(4,1)\n",
    "b = torch.arange(5).view(1,5)*10\n",
    "\n",
    "print(f'{a = }')\n",
    "print(f'{b = }')\n",
    "print(a * b)\n"
   ]
  },
  {
   "cell_type": "code",
   "execution_count": 52,
   "metadata": {},
   "outputs": [
    {
     "name": "stdout",
     "output_type": "stream",
     "text": [
      "tensor([[0.0000e+00, 4.1248e+00, 1.0407e+00, 2.6010e+00, 3.2924e+00, 4.2008e+00,\n",
      "         1.7571e+00, 2.4624e+00, 1.0985e+00, 3.9349e-01],\n",
      "        [4.1248e+00, 0.0000e+00, 1.1017e+00, 5.7617e-01, 1.1484e+00, 1.2552e+01,\n",
      "         1.7079e+00, 7.0066e-01, 4.1698e+00, 4.7723e+00],\n",
      "        [1.0407e+00, 1.1017e+00, 0.0000e+00, 3.9068e-01, 8.6448e-01, 6.6194e+00,\n",
      "         1.0755e+00, 3.6330e-01, 1.2153e+00, 1.3104e+00],\n",
      "        [2.6010e+00, 5.7617e-01, 3.9068e-01, 0.0000e+00, 1.5964e-01, 7.9896e+00,\n",
      "         2.1773e+00, 6.3169e-03, 1.7854e+00, 2.4900e+00],\n",
      "        [3.2924e+00, 1.1484e+00, 8.6448e-01, 1.5964e-01, 0.0000e+00, 7.3348e+00,\n",
      "         3.4758e+00, 1.3306e-01, 1.6523e+00, 2.6877e+00],\n",
      "        [4.2008e+00, 1.2552e+01, 6.6194e+00, 7.9896e+00, 7.3348e+00, 0.0000e+00,\n",
      "         1.1054e+01, 7.5535e+00, 2.2527e+00, 2.2598e+00],\n",
      "        [1.7571e+00, 1.7079e+00, 1.0755e+00, 2.1773e+00, 3.4758e+00, 1.1054e+01,\n",
      "         0.0000e+00, 2.2490e+00, 4.0231e+00, 3.3244e+00],\n",
      "        [2.4624e+00, 7.0066e-01, 3.6330e-01, 6.3169e-03, 1.3306e-01, 7.5535e+00,\n",
      "         2.2490e+00, 0.0000e+00, 1.5868e+00, 2.2858e+00],\n",
      "        [1.0985e+00, 4.1698e+00, 1.2153e+00, 1.7854e+00, 1.6523e+00, 2.2527e+00,\n",
      "         4.0231e+00, 1.5868e+00, 0.0000e+00, 2.5675e-01],\n",
      "        [3.9349e-01, 4.7723e+00, 1.3104e+00, 2.4900e+00, 2.6877e+00, 2.2598e+00,\n",
      "         3.3244e+00, 2.2858e+00, 2.5675e-01, 0.0000e+00]])\n"
     ]
    }
   ],
   "source": [
    "x = torch.randn(10, 2)\n",
    "d = torch.zeros(10, 10)\n",
    "for i in range(10):\n",
    "    for j in range(10):\n",
    "        d[i, j] = (x[i] - x[j]).pow(2).sum()\n",
    "\n",
    "# compact\n",
    "d = (x[:, None, :] - x[None, :, :]).pow(2).sum()"
   ]
  },
  {
   "cell_type": "code",
   "execution_count": 65,
   "metadata": {},
   "outputs": [
    {
     "name": "stdout",
     "output_type": "stream",
     "text": [
      "tensor(18.1639) (1, 8)\n",
      "tensor(18.1639) (tensor(1), tensor(8))\n"
     ]
    }
   ],
   "source": [
    "x = torch.randn(10, 2)\n",
    "d = torch.zeros(10, 10)\n",
    "max_dist, max_idx  = 0, (-1, -1)\n",
    "for i in range(10):\n",
    "    for j in range(10):\n",
    "        if (x[i] - x[j]).pow(2).sum() > max_dist:\n",
    "           max_dist, max_idx = (x[i] - x[j]).pow(2).sum(), (i, j)\n",
    "print(max_dist, max_idx)\n",
    "# compact\n",
    "d = (x[:, None, :] - x[None, :, :]).pow(2).sum(-1)\n",
    "print(d.max(), (d.argmax() // 10, d.argmax() % 10))"
   ]
  },
  {
   "cell_type": "code",
   "execution_count": 68,
   "metadata": {},
   "outputs": [
    {
     "data": {
      "text/plain": [
       "torch.Size([2, 3])"
      ]
     },
     "execution_count": 68,
     "metadata": {},
     "output_type": "execute_result"
    }
   ],
   "source": [
    "a = torch.rand(2, 4)\n",
    "b = torch.rand(4, 3)\n",
    "c = a @ b\n",
    "c.shape"
   ]
  }
 ],
 "metadata": {
  "kernelspec": {
   "display_name": ".venv",
   "language": "python",
   "name": "python3"
  },
  "language_info": {
   "codemirror_mode": {
    "name": "ipython",
    "version": 3
   },
   "file_extension": ".py",
   "mimetype": "text/x-python",
   "name": "python",
   "nbconvert_exporter": "python",
   "pygments_lexer": "ipython3",
   "version": "3.12.3"
  }
 },
 "nbformat": 4,
 "nbformat_minor": 2
}
