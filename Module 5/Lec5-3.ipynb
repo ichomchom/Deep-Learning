{
 "cells": [
  {
   "cell_type": "code",
   "execution_count": 1,
   "metadata": {},
   "outputs": [],
   "source": [
    "import torch"
   ]
  },
  {
   "cell_type": "code",
   "execution_count": 2,
   "metadata": {},
   "outputs": [],
   "source": [
    "net = torch.nn.Conv2d(1, 16, 3, 1, (3 -1)//2) ## Convlution with dimension 1, with 16 channels outputs, kernel size 3, no stride and padding of (kernel size - 1)// 2\n",
    "# stick with Conv1d -> Conv3d, onlyuse LazyConv if needed\n",
    "# 1D is convolution over a time series over some signal\n",
    "# 2D if you deal with image data\n",
    "# 3D if you deal with either volume data or video data that has 3rd dimension to it\n",
    "# in convolution, there is 2 channels inputs, 2 channels parameters\n",
    "# 1st is how mahy channles go into convolution, and 2nd is how many channels do we expect convolution to produce\n",
    "# the inputs and outputs of convolution always with channel heigh width\n",
    "# kernel size is how large the convolutional kernel is\n",
    "# stride parameter, how many outputs should we skip if we stride convolution\n",
    "# padding, as rule of thumb you should always set padding to half the kernel size minus 1\n",
    "# bias paramerter means do we want to produce bias term for this layer or you don't want to produce bias term\n"
   ]
  },
  {
   "cell_type": "code",
   "execution_count": 4,
   "metadata": {},
   "outputs": [
    {
     "name": "stdout",
     "output_type": "stream",
     "text": [
      "torch.Size([1, 1, 28, 28])\n"
     ]
    }
   ],
   "source": [
    "x = torch.randn(1, 1, 28, 28) ## data with batch size 1, channel 1, and size 28 x 28\n",
    "print(x.shape)"
   ]
  },
  {
   "cell_type": "code",
   "execution_count": null,
   "metadata": {},
   "outputs": [
    {
     "name": "stdout",
     "output_type": "stream",
     "text": [
      "torch.Size([1, 16, 28, 28])\n"
     ]
    }
   ],
   "source": [
    "y = net(x)\n",
    "print(y.shape) # convolution did not change the size of the output, but it change number of channels in the input\n"
   ]
  },
  {
   "cell_type": "code",
   "execution_count": null,
   "metadata": {},
   "outputs": [
    {
     "name": "stdout",
     "output_type": "stream",
     "text": [
      "torch.Size([1, 1, 28, 28])\n",
      "torch.Size([1, 16, 14, 14])\n"
     ]
    }
   ],
   "source": [
    "net = torch.nn.Conv2d(1, 16, 3, 2, (3 - 1)//2) # we stride here\n",
    "x = torch.randn(1, 1, 28, 28)\n",
    "print(x.shape)\n",
    "y = net(x)\n",
    "print(y.shape) ## the output cut in half because triding we skip every other output"
   ]
  },
  {
   "cell_type": "code",
   "execution_count": 14,
   "metadata": {},
   "outputs": [
    {
     "name": "stdout",
     "output_type": "stream",
     "text": [
      "ConvNet(\n",
      "  (network): Sequential(\n",
      "    (0): Conv2d(1, 16, kernel_size=(3, 3), stride=(1, 1), padding=(1, 1))\n",
      "    (1): ReLU()\n",
      "    (2): Conv2d(16, 32, kernel_size=(3, 3), stride=(1, 1), padding=(1, 1))\n",
      "    (3): ReLU()\n",
      "    (4): Conv2d(32, 64, kernel_size=(3, 3), stride=(1, 1), padding=(1, 1))\n",
      "    (5): ReLU()\n",
      "    (6): Conv2d(64, 1, kernel_size=(1, 1), stride=(1, 1))\n",
      "  )\n",
      ")\n"
     ]
    }
   ],
   "source": [
    "class ConvNet(torch.nn.Module):\n",
    "    def __init__(self, layers=[16, 32, 64], kernel_size = 3, stride = 1) -> None:\n",
    "        super().__init__()\n",
    "        cnn_layers = []\n",
    "        c1 = 1 # originaly because we have 1 dimensional input\n",
    "        for c2 in layers: # c2 is the output channels size which it the layers\n",
    "            cnn_layers.append(torch.nn.Conv2d(c1, c2, kernel_size, stride, (kernel_size - 1)//2)) #add layer with c1 input and c2 output\n",
    "            cnn_layers.append(torch.nn.ReLU()) # non-linearities in betwwen\n",
    "            c1 = c2\n",
    "        cnn_layers.append(torch.nn.Conv2d(c1, 1, kernel_size=1)) # c1 input channels, 1 dimension, kernel size 1, no stride\n",
    "        # final layer is a classifier\n",
    "        # 2 ways to add a classifier:\n",
    "        # 1 - take outputs of the convolutional network then average pull all of it together then apply a classifier\n",
    "        # 2 - add a 1 x 1 convolution here for matrix multiplication, it applied element wise to all outputs, then would average\n",
    "        # if averge first and apply classifier for all channel sizes, this computationally cheaper\n",
    "        # but it is nicer to apply the classifier first, because that way you later can infer what spatial locations correspond to certain classifications\n",
    "        # if have computational power use 1 x 1 convolution\n",
    "        self.network = torch.nn.Sequential(*cnn_layers)\n",
    "\n",
    "    def forward(self, x):\n",
    "        return self.network(x)\n",
    "\n",
    "net = ConvNet()\n",
    "print(net)"
   ]
  },
  {
   "cell_type": "code",
   "execution_count": 18,
   "metadata": {},
   "outputs": [
    {
     "data": {
      "text/plain": [
       "torch.Size([1, 1, 28, 28])"
      ]
     },
     "execution_count": 18,
     "metadata": {},
     "output_type": "execute_result"
    }
   ],
   "source": [
    "net(x).shape"
   ]
  },
  {
   "cell_type": "code",
   "execution_count": 19,
   "metadata": {},
   "outputs": [
    {
     "data": {
      "text/plain": [
       "torch.Size([1, 1, 4, 4])"
      ]
     },
     "execution_count": 19,
     "metadata": {},
     "output_type": "execute_result"
    }
   ],
   "source": [
    "net = ConvNet(stride=2)\n",
    "net(x).shape"
   ]
  },
  {
   "cell_type": "code",
   "execution_count": null,
   "metadata": {},
   "outputs": [
    {
     "data": {
      "text/plain": [
       "<matplotlib.image.AxesImage at 0x1283ea5d0>"
      ]
     },
     "execution_count": 21,
     "metadata": {},
     "output_type": "execute_result"
    },
    {
     "data": {
      "image/png": "[encoded data removed]",
      "text/plain": [
       "<Figure size 640x480 with 1 Axes>"
      ]
     },
     "metadata": {},
     "output_type": "display_data"
    }
   ],
   "source": [
    "# receptive fields\n",
    "from matplotlib import pyplot as plt\n",
    "\n",
    "x = torch.rand(1, 1, 28, 28)\n",
    "x[0, 0, 10, 10] = float('inf') # inf will become NaN later\n",
    "net = ConvNet()\n",
    "y = net(x)\n",
    "plt.imshow(y[0, 0].detach().numpy()) #visualize, right now we feed random noise so we get back random noise"
   ]
  },
  {
   "cell_type": "code",
   "execution_count": 22,
   "metadata": {},
   "outputs": [
    {
     "data": {
      "text/plain": [
       "<matplotlib.image.AxesImage at 0x1283eb260>"
      ]
     },
     "execution_count": 22,
     "metadata": {},
     "output_type": "execute_result"
    },
    {
     "data": {
      "image/png": "[encoded data removed]",
      "text/plain": [
       "<Figure size 640x480 with 1 Axes>"
      ]
     },
     "metadata": {},
     "output_type": "display_data"
    }
   ],
   "source": [
    "x = torch.rand(1, 1, 28, 28)\n",
    "x[0, 0, 10, 10] = float('inf')\n",
    "net = ConvNet(stride=2)\n",
    "y = net(x)\n",
    "plt.imshow(y[0, 0].detach().numpy())"
   ]
  },
  {
   "cell_type": "code",
   "execution_count": 24,
   "metadata": {},
   "outputs": [
    {
     "data": {
      "text/plain": [
       "<matplotlib.image.AxesImage at 0x1284b7aa0>"
      ]
     },
     "execution_count": 24,
     "metadata": {},
     "output_type": "execute_result"
    },
    {
     "data": {
      "image/png": "[encoded data removed]",
      "text/plain": [
       "<Figure size 640x480 with 1 Axes>"
      ]
     },
     "metadata": {},
     "output_type": "display_data"
    }
   ],
   "source": [
    "# receptive field\n",
    "x = torch.rand(1, 1, 28, 28, requires_grad=True)\n",
    "# x[0, 0, 10, 10] = float('inf')\n",
    "net = ConvNet()\n",
    "y = net(x)\n",
    "y.sum().backward()\n",
    "plt.imshow(x.grad[0, 0].detach().numpy())"
   ]
  },
  {
   "cell_type": "code",
   "execution_count": 27,
   "metadata": {},
   "outputs": [
    {
     "data": {
      "text/plain": [
       "<matplotlib.image.AxesImage at 0x128606510>"
      ]
     },
     "execution_count": 27,
     "metadata": {},
     "output_type": "execute_result"
    },
    {
     "data": {
      "image/png": "[encoded data removed]",
      "text/plain": [
       "<Figure size 640x480 with 1 Axes>"
      ]
     },
     "metadata": {},
     "output_type": "display_data"
    }
   ],
   "source": [
    "# get receptive field for specific output\n",
    "x = torch.rand(1, 1, 28, 28, requires_grad=True)\n",
    "# x[0, 0, 10, 10] = float('inf')\n",
    "net = ConvNet()\n",
    "y = net(x)\n",
    "\n",
    "z = y.new_zeros(y.shape) # create a new tensor of 0 with the same shape as y\n",
    "z[0, 0, z.shape[2]//2, z.shape[3]//2] = float('NaN') # we set 1 element to NaN\n",
    "\n",
    "(y * z).sum().backward() # we multiply them together then compute the sum\n",
    "# the gradient will go backwards through this function\n",
    "# it will be originally 1, so to sum it will be 1\n",
    "# and in here the gradient will be multiplied with either a 0 if not the selected element or it will be mutiply by NaN\n",
    "# now we can ensure that the probe is 0 everywhere except for 1 element\n",
    "\n",
    "plt.imshow(x.grad[0, 0].detach().numpy())"
   ]
  },
  {
   "cell_type": "code",
   "execution_count": null,
   "metadata": {},
   "outputs": [
    {
     "data": {
      "text/plain": [
       "<matplotlib.image.AxesImage at 0x11d15b050>"
      ]
     },
     "execution_count": 28,
     "metadata": {},
     "output_type": "execute_result"
    },
    {
     "data": {
      "image/png": "[encoded data removed]",
      "text/plain": [
       "<Figure size 640x480 with 1 Axes>"
      ]
     },
     "metadata": {},
     "output_type": "display_data"
    }
   ],
   "source": [
    "# get receptive field for specific output\n",
    "x = torch.rand(1, 1, 28, 28, requires_grad=True)\n",
    "# x[0, 0, 10, 10] = float('inf')\n",
    "net = ConvNet(stride=2)\n",
    "y = net(x)\n",
    "\n",
    "z = y.new_zeros(y.shape)  # create a new tensor of 0 with the same shape as y\n",
    "z[0, 0, z.shape[2]//2, z.shape[3]//2] = float('NaN')  # we set 1 element to NaN\n",
    "\n",
    "(y * z).sum().backward()\n",
    "\n",
    "plt.imshow(x.grad[0, 0].detach().numpy())"
   ]
  },
  {
   "cell_type": "code",
   "execution_count": null,
   "metadata": {},
   "outputs": [
    {
     "data": {
      "text/plain": [
       "<matplotlib.image.AxesImage at 0x128b5c440>"
      ]
     },
     "execution_count": 30,
     "metadata": {},
     "output_type": "execute_result"
    },
    {
     "data": {
      "image/png": "[encoded data removed]",
      "text/plain": [
       "<Figure size 640x480 with 2 Axes>"
      ]
     },
     "metadata": {},
     "output_type": "display_data"
    }
   ],
   "source": [
    "# get receptive field for specific output\n",
    "x = torch.rand(1, 1, 28, 28, requires_grad=True)\n",
    "# x[0, 0, 10, 10] = float('inf')\n",
    "net = ConvNet(stride=1)\n",
    "y = net(x)\n",
    "\n",
    "z = y.new_zeros(y.shape)  # create a new tensor of 0 with the same shape as y\n",
    "z[0, 0, z.shape[2]//2, z.shape[3]//2] = float('NaN')  # we set 1 element to NaN\n",
    "f, ax = plt.subplots(1, 2)\n",
    "ax[0].imshow(z[0, 0].detach().numpy()) # draw the probe, it start in the middle where we decalre z\n",
    "(y * z).sum().backward()\n",
    "\n",
    "ax[1].imshow(x.grad[0, 0].detach().numpy())"
   ]
  }
 ],
 "metadata": {
  "kernelspec": {
   "display_name": ".venv",
   "language": "python",
   "name": "python3"
  },
  "language_info": {
   "codemirror_mode": {
    "name": "ipython",
    "version": 3
   },
   "file_extension": ".py",
   "mimetype": "text/x-python",
   "name": "python",
   "nbconvert_exporter": "python",
   "pygments_lexer": "ipython3",
   "version": "3.12.8"
  }
 },
 "nbformat": 4,
 "nbformat_minor": 2
}
