{
 "cells": [
  {
   "cell_type": "code",
   "execution_count": 1,
   "metadata": {},
   "outputs": [],
   "source": [
    "import torch"
   ]
  },
  {
   "cell_type": "code",
   "execution_count": null,
   "metadata": {},
   "outputs": [
    {
     "name": "stdout",
     "output_type": "stream",
     "text": [
      "ConvNet(\n",
      "  (network): Sequential(\n",
      "    (0): Conv2d(3, 64, kernel_size=(11, 11), stride=(2, 2), padding=(5, 5))\n",
      "    (1): ReLU()\n",
      "    (2): Block(\n",
      "      (c1): Conv2d(64, 128, kernel_size=(3, 3), stride=(2, 2), padding=(1, 1))\n",
      "      (c2): Conv2d(128, 128, kernel_size=(3, 3), stride=(1, 1), padding=(1, 1))\n",
      "      (c3): Conv2d(128, 128, kernel_size=(3, 3), stride=(1, 1), padding=(1, 1))\n",
      "      (relu): ReLU()\n",
      "    )\n",
      "    (3): Block(\n",
      "      (c1): Conv2d(128, 256, kernel_size=(3, 3), stride=(2, 2), padding=(1, 1))\n",
      "      (c2): Conv2d(256, 256, kernel_size=(3, 3), stride=(1, 1), padding=(1, 1))\n",
      "      (c3): Conv2d(256, 256, kernel_size=(3, 3), stride=(1, 1), padding=(1, 1))\n",
      "      (relu): ReLU()\n",
      "    )\n",
      "    (4): Block(\n",
      "      (c1): Conv2d(256, 512, kernel_size=(3, 3), stride=(2, 2), padding=(1, 1))\n",
      "      (c2): Conv2d(512, 512, kernel_size=(3, 3), stride=(1, 1), padding=(1, 1))\n",
      "      (c3): Conv2d(512, 512, kernel_size=(3, 3), stride=(1, 1), padding=(1, 1))\n",
      "      (relu): ReLU()\n",
      "    )\n",
      "    (5): Conv2d(512, 1, kernel_size=(1, 1), stride=(1, 1))\n",
      "  )\n",
      ")\n"
     ]
    }
   ],
   "source": [
    "class ConvNet(torch.nn.Module):\n",
    "    class Block(torch.nn.Module):\n",
    "        def __init__(self, in_channels, out_channels, stride) -> None:\n",
    "            super().__init__()\n",
    "            kernel_size = 3\n",
    "            padding = (kernel_size - 1)//2\n",
    "\n",
    "            # all convolutional layers only first layer take input channels, the rest take out channels\n",
    "            # only the first one stride the other layers will not stride\n",
    "            self.c1 = torch.nn.Conv2d(in_channels, out_channels, kernel_size, stride, padding)\n",
    "            self.c2 = torch.nn.Conv2d(out_channels, out_channels, kernel_size, 1, padding)\n",
    "            self.c3 = torch.nn.Conv2d(out_channels, out_channels, kernel_size, 1, padding)\n",
    "            self.relu = torch.nn.ReLU()\n",
    "            # we can start adding normalizations in here\n",
    "            # can add residual connections\n",
    "        def forward(self, x):\n",
    "            x = self.relu(self.c1(x))\n",
    "            x = self.relu(self.c2(x))\n",
    "            x = self.relu(self.c3(x))\n",
    "            return x\n",
    "\n",
    "    def __init__(self, channels_l0=64, n_blocks=4) -> None:  # channels_l0 channel size of the first layer\n",
    "        super().__init__()\n",
    "        cnn_layers = [\n",
    "            torch.nn.Conv2d(3, channels_l0, kernel_size=11, stride=2, padding=5), # special layer, input is channel of 1st layer, stride factor of 2\n",
    "            torch.nn.ReLU(),\n",
    "        ]\n",
    "        c1 = channels_l0 #input channel\n",
    "        for _ in range(n_blocks):\n",
    "            c2 = c1 * 2 # increase the channel by factor of 2\n",
    "            cnn_layers.append(self.Block(c1, c2, stride=2)) # stride by factor of 2\n",
    "            c1 = c2\n",
    "        cnn_layers.append(torch.nn.Conv2d(c1, 1, kernel_size=1))\n",
    "        # cnn_layers.append(torch.nn.AdaptiveAvgPool2d(1))\n",
    "\n",
    "        self.network = torch.nn.Sequential(*cnn_layers)\n",
    "\n",
    "    def forward(self, x):\n",
    "        return self.network(x)\n",
    "\n",
    "\n",
    "net = ConvNet(n_blocks=3)\n",
    "x = torch.randn(1, 3, 64, 64)\n",
    "net(x).shape\n",
    "print(net)\n",
    "## Baisc structure of the Convnet will almost always be\n",
    "## 1 convolution as input, non-linearity\n",
    "## then you have bunch of blocks that do the heavy lifting inside\n",
    "## then 1 convolutional layer as output\n",
    "## if you interested in getting 1 single classification output\n",
    "# you will add AdaptiveAvgPool2d which is global average pooling\n"
   ]
  },
  {
   "cell_type": "code",
   "execution_count": null,
   "metadata": {},
   "outputs": [],
   "source": []
  }
 ],
 "metadata": {
  "kernelspec": {
   "display_name": ".venv",
   "language": "python",
   "name": "python3"
  },
  "language_info": {
   "codemirror_mode": {
    "name": "ipython",
    "version": 3
   },
   "file_extension": ".py",
   "mimetype": "text/x-python",
   "name": "python",
   "nbconvert_exporter": "python",
   "pygments_lexer": "ipython3",
   "version": "3.12.9"
  }
 },
 "nbformat": 4,
 "nbformat_minor": 2
}
