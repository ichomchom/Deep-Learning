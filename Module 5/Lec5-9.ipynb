{
 "cells": [
  {
   "cell_type": "code",
   "execution_count": 2,
   "metadata": {},
   "outputs": [],
   "source": [
    "import torch"
   ]
  },
  {
   "cell_type": "code",
   "execution_count": null,
   "metadata": {},
   "outputs": [
    {
     "name": "stdout",
     "output_type": "stream",
     "text": [
      "torch.Size([1, 1, 5, 5]) torch.Size([1, 1, 3, 3])\n"
     ]
    }
   ],
   "source": [
    "net = torch.nn.Conv2d(1, 1, 3, 2, 1)\n",
    "\n",
    "x = torch.zeros(1, 1, 5, 5)\n",
    "print(x.shape, net(x).shape)\n",
    "\n"
   ]
  },
  {
   "cell_type": "code",
   "execution_count": 5,
   "metadata": {},
   "outputs": [
    {
     "name": "stdout",
     "output_type": "stream",
     "text": [
      "torch.Size([1, 1, 5, 5]) torch.Size([1, 1, 5, 5])\n"
     ]
    }
   ],
   "source": [
    "net = torch.nn.Conv2d(1, 1, 3, stride=1, padding=2, dilation=2)\n",
    "\n",
    "x = torch.zeros(1, 1, 5, 5)\n",
    "print(x.shape, net(x).shape)"
   ]
  },
  {
   "cell_type": "code",
   "execution_count": 18,
   "metadata": {},
   "outputs": [
    {
     "name": "stdout",
     "output_type": "stream",
     "text": [
      "[Parameter containing:\n",
      "tensor([[[[ 0.2249,  0.1837, -0.1058],\n",
      "          [-0.2648, -0.0549,  0.1453],\n",
      "          [ 0.2576,  0.2293,  0.2288]]]], requires_grad=True), Parameter containing:\n",
      "tensor([0.2085], requires_grad=True), Parameter containing:\n",
      "tensor([[[[ 0.0833,  0.2698, -0.2645],\n",
      "          [ 0.0073,  0.1843,  0.0281],\n",
      "          [ 0.1993, -0.2963, -0.0175]]]], requires_grad=True), Parameter containing:\n",
      "tensor([-0.1083], requires_grad=True)]\n",
      "[Parameter containing:\n",
      "tensor([[[[ 0.2249,  0.1837, -0.1058],\n",
      "          [-0.2648, -0.0549,  0.1453],\n",
      "          [ 0.2576,  0.2293,  0.2288]]]], requires_grad=True), Parameter containing:\n",
      "tensor([0.2085], requires_grad=True), Parameter containing:\n",
      "tensor([[[[ 0.0833,  0.2698, -0.2645],\n",
      "          [ 0.0073,  0.1843,  0.0281],\n",
      "          [ 0.1993, -0.2963, -0.0175]]]], requires_grad=True), Parameter containing:\n",
      "tensor([-0.1083], requires_grad=True)]\n",
      "torch.Size([1, 1, 5, 5]) torch.Size([1, 1, 3, 3])\n",
      "torch.Size([1, 1, 5, 5]) torch.Size([1, 1, 5, 5])\n",
      "tensor([[[[-0.0923, -0.0877, -0.0834],\n",
      "          [-0.3334, -0.0011,  0.0278],\n",
      "          [-0.0735,  0.0134, -0.0729]]]], grad_fn=<ConvolutionBackward0>)\n",
      "tensor([[[[-0.0923, -0.0877, -0.0834],\n",
      "          [-0.3334, -0.0011,  0.0278],\n",
      "          [-0.0735,  0.0134, -0.0729]]]], grad_fn=<SliceBackward0>)\n"
     ]
    }
   ],
   "source": [
    "net1 = torch.nn.Sequential(\n",
    "    torch.nn.Conv2d(1, 1, 3, stride=2, padding=1, dilation=1),\n",
    "    torch.nn.ReLU(),\n",
    "    torch.nn.Conv2d(1, 1, 3, stride=1, padding=1, dilation=1)\n",
    ")\n",
    "net2 = torch.nn.Sequential(\n",
    "    torch.nn.Conv2d(1, 1, 3, stride=1, padding=1, dilation=1),\n",
    "    torch.nn.ReLU(),\n",
    "    torch.nn.Conv2d(1, 1, 3, stride=1, padding=2, dilation=2)\n",
    ")\n",
    "# dilation net2\n",
    "# only dilate the 2nd kernel, the first kernel needs to be the same kernel\n",
    "# in net 1, we strided, so we skipped every other output\n",
    "# now in net 2, when we use dilation, we now need to dilate the kernel that comes after\n",
    "# when we dilate, we need to increase the padding\n",
    "for p1, p2 in zip(net1.parameters(), net2.parameters()):\n",
    "    p2.data = p1.data.clone()\n",
    "    p2.requires_grad = True\n",
    "\n",
    "print(list(net1.parameters()))\n",
    "print(list(net2.parameters()))\n",
    "\n",
    "x = torch.randn(1, 1, 5, 5)\n",
    "print(x.shape, net1(x).shape)\n",
    "print(x.shape, net2(x).shape)\n",
    "y1  = net1(x)\n",
    "y2 = net2(x)\n",
    "print(y1)\n",
    "print(y2[:, :, ::2, ::2])"
   ]
  },
  {
   "cell_type": "code",
   "execution_count": 26,
   "metadata": {},
   "outputs": [
    {
     "name": "stdout",
     "output_type": "stream",
     "text": [
      "torch.Size([1, 1, 5, 5])\n"
     ]
    }
   ],
   "source": [
    "net1 = torch.nn.Sequential(\n",
    "    torch.nn.Conv2d(1, 1, 3, stride=2, padding=1, dilation=1),\n",
    "    torch.nn.ReLU(),\n",
    "    torch.nn.Conv2d(1, 1, 3, stride=1, padding=1, dilation=1),\n",
    "    torch.nn.ReLU(),\n",
    "    torch.nn.ConvTranspose2d(1, 1, 3, stride=2, padding=1, output_padding=1) # stride here means, how much you want to upsample, \n",
    "                                                                        # padding here is cut and shrink the output. padding 0 will make output larger\n",
    ")\n",
    "x = torch.randn(1, 1, 5, 5)\n",
    "print(net1(x)[:, :, :x.shape[2], :x.shape[3]].shape)"
   ]
  }
 ],
 "metadata": {
  "kernelspec": {
   "display_name": ".venv",
   "language": "python",
   "name": "python3"
  },
  "language_info": {
   "codemirror_mode": {
    "name": "ipython",
    "version": 3
   },
   "file_extension": ".py",
   "mimetype": "text/x-python",
   "name": "python",
   "nbconvert_exporter": "python",
   "pygments_lexer": "ipython3",
   "version": "3.12.3"
  }
 },
 "nbformat": 4,
 "nbformat_minor": 2
}
