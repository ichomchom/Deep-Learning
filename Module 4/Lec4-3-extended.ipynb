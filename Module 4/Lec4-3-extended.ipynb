{
 "cells": [
  {
   "cell_type": "code",
   "execution_count": null,
   "id": "0aff4fc7",
   "metadata": {
    "execution": {
     "iopub.execute_input": "2024-06-09T08:01:45.280674Z",
     "iopub.status.busy": "2024-06-09T08:01:45.280457Z",
     "iopub.status.idle": "2024-06-09T08:01:45.283367Z",
     "shell.execute_reply": "2024-06-09T08:01:45.282916Z"
    },
    "lines_to_next_cell": 0
   },
   "outputs": [],
   "source": [
    "#   title: Normalizations in PyTorch"
   ]
  },
  {
   "cell_type": "code",
   "execution_count": 1,
   "id": "cf739530",
   "metadata": {
    "execution": {
     "iopub.execute_input": "2024-06-09T08:01:45.286788Z",
     "iopub.status.busy": "2024-06-09T08:01:45.286650Z",
     "iopub.status.idle": "2024-06-09T08:01:46.218928Z",
     "shell.execute_reply": "2024-06-09T08:01:46.218270Z"
    }
   },
   "outputs": [],
   "source": [
    "import torch"
   ]
  },
  {
   "cell_type": "code",
   "execution_count": 2,
   "id": "a3893c38",
   "metadata": {
    "execution": {
     "iopub.execute_input": "2024-06-09T08:01:46.221724Z",
     "iopub.status.busy": "2024-06-09T08:01:46.221487Z",
     "iopub.status.idle": "2024-06-09T08:01:46.229167Z",
     "shell.execute_reply": "2024-06-09T08:01:46.228613Z"
    }
   },
   "outputs": [
    {
     "data": {
      "text/plain": [
       "BNNet(\n",
       "  (fc1): Linear(in_features=1, out_features=100, bias=True)\n",
       "  (fc2): Linear(in_features=100, out_features=1, bias=True)\n",
       "  (bn1): BatchNorm1d(100, eps=1e-05, momentum=0.1, affine=True, track_running_stats=True)\n",
       ")"
      ]
     },
     "execution_count": 2,
     "metadata": {},
     "output_type": "execute_result"
    }
   ],
   "source": [
    "\n",
    "\n",
    "class BNNet(torch.nn.Module):\n",
    "    def __init__(self):\n",
    "        super().__init__()\n",
    "        self.fc1 = torch.nn.Linear(1, 100)\n",
    "        self.fc2 = torch.nn.Linear(100, 1)\n",
    "        self.bn1 = torch.nn.BatchNorm1d(100, affine=True)\n",
    "\n",
    "    def forward(self, x):\n",
    "        x = self.fc1(x)\n",
    "        x = self.bn1(x)\n",
    "        x = torch.relu(x)\n",
    "        x = self.fc2(x)\n",
    "        return x\n",
    "\n",
    "\n",
    "model = BNNet()\n",
    "model.eval()\n",
    "model.train()"
   ]
  }
 ],
 "metadata": {
  "kernelspec": {
   "display_name": ".venv",
   "language": "python",
   "name": "python3"
  },
  "language_info": {
   "codemirror_mode": {
    "name": "ipython",
    "version": 3
   },
   "file_extension": ".py",
   "mimetype": "text/x-python",
   "name": "python",
   "nbconvert_exporter": "python",
   "pygments_lexer": "ipython3",
   "version": "3.12.3"
  }
 },
 "nbformat": 4,
 "nbformat_minor": 5
}
