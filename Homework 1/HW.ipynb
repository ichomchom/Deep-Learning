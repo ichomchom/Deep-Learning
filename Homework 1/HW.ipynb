{
 "cells": [
  {
   "cell_type": "code",
   "execution_count": null,
   "metadata": {},
   "outputs": [
    {
     "name": "stderr",
     "output_type": "stream",
     "text": [
      "/Users/hphan10/Dropbox/Documents/MSAI/Deep-Learning/.venv/lib/python3.12/site-packages/torch/_subclasses/functional_tensor.py:295: UserWarning: Failed to initialize NumPy: No module named 'numpy' (Triggered internally at /Users/runner/work/pytorch/pytorch/pytorch/torch/csrc/utils/tensor_numpy.cpp:84.)\n",
      "  cpu = _conversion_method_template(device=torch.device(\"cpu\"))\n"
     ]
    }
   ],
   "source": [
    "import torch"
   ]
  },
  {
   "cell_type": "code",
   "execution_count": 2,
   "metadata": {},
   "outputs": [
    {
     "data": {
      "text/plain": [
       "tensor([0.8121, 0.8082, 0.8225, 0.5347, 0.6089, 0.7091, 0.3455, 0.8970, 0.1278,\n",
       "        0.8527])"
      ]
     },
     "execution_count": 2,
     "metadata": {},
     "output_type": "execute_result"
    }
   ],
   "source": [
    "a = torch.rand([10])\n",
    "a"
   ]
  },
  {
   "cell_type": "code",
   "execution_count": 18,
   "metadata": {},
   "outputs": [
    {
     "data": {
      "text/plain": [
       "tensor([0.8121, 0.5347, 0.3455, 0.8527])"
      ]
     },
     "execution_count": 18,
     "metadata": {},
     "output_type": "execute_result"
    }
   ],
   "source": [
    "a[::3]"
   ]
  },
  {
   "cell_type": "code",
   "execution_count": 4,
   "metadata": {},
   "outputs": [
    {
     "data": {
      "text/plain": [
       "tensor([[[0.6742, 0.6255, 0.4020, 0.1292],\n",
       "         [0.2769, 0.2768, 0.9593, 0.1177],\n",
       "         [0.8095, 0.1557, 0.4421, 0.0704]],\n",
       "\n",
       "        [[0.9775, 0.2552, 0.0120, 0.6068],\n",
       "         [0.7943, 0.4438, 0.4343, 0.7468],\n",
       "         [0.8986, 0.4316, 0.3762, 0.6132]]])"
      ]
     },
     "execution_count": 4,
     "metadata": {},
     "output_type": "execute_result"
    }
   ],
   "source": [
    "b = torch.rand(2, 3, 4)\n",
    "b"
   ]
  },
  {
   "cell_type": "code",
   "execution_count": 6,
   "metadata": {},
   "outputs": [
    {
     "data": {
      "text/plain": [
       "tensor([[0.6742, 0.9593, 0.8095],\n",
       "        [0.9775, 0.7943, 0.8986]])"
      ]
     },
     "execution_count": 6,
     "metadata": {},
     "output_type": "execute_result"
    }
   ],
   "source": [
    "values, _ = torch.max(b, dim=2)\n",
    "values"
   ]
  },
  {
   "cell_type": "code",
   "execution_count": 12,
   "metadata": {},
   "outputs": [
    {
     "data": {
      "text/plain": [
       "tensor([0., 1., 2., 3., 4., 5., 6., 7., 8., 9.])"
      ]
     },
     "execution_count": 12,
     "metadata": {},
     "output_type": "execute_result"
    }
   ],
   "source": [
    "c = torch.arange(10, dtype=torch.float32)\n",
    "c"
   ]
  },
  {
   "cell_type": "code",
   "execution_count": 13,
   "metadata": {},
   "outputs": [
    {
     "data": {
      "text/plain": [
       "tensor([9., 1., 2., 4., 4., 8., 6., 7., 8., 9.])"
      ]
     },
     "execution_count": 13,
     "metadata": {},
     "output_type": "execute_result"
    }
   ],
   "source": [
    "c[3] = 4\n",
    "c[5] = 8\n",
    "c[0] = 9\n",
    "c"
   ]
  },
  {
   "cell_type": "code",
   "execution_count": 14,
   "metadata": {},
   "outputs": [
    {
     "data": {
      "text/plain": [
       "tensor([1., 2., 4., 6., 7., 8., 9.])"
      ]
     },
     "execution_count": 14,
     "metadata": {},
     "output_type": "execute_result"
    }
   ],
   "source": [
    "torch.unique(c, sorted=True)"
   ]
  },
  {
   "cell_type": "code",
   "execution_count": 15,
   "metadata": {},
   "outputs": [
    {
     "data": {
      "text/plain": [
       "tensor([0.0760, 0.5786, 0.5564, 0.6689, 0.3458, 0.1715, 0.5386, 0.1829, 0.5940,\n",
       "        0.8520])"
      ]
     },
     "execution_count": 15,
     "metadata": {},
     "output_type": "execute_result"
    }
   ],
   "source": [
    "d = torch.rand(10)\n",
    "d"
   ]
  },
  {
   "cell_type": "code",
   "execution_count": 17,
   "metadata": {},
   "outputs": [
    {
     "data": {
      "text/plain": [
       "tensor([0.0000, 0.5786, 0.5564, 0.6689, 0.0000, 0.0000, 0.5386, 0.0000, 0.5940,\n",
       "        0.8520])"
      ]
     },
     "execution_count": 17,
     "metadata": {},
     "output_type": "execute_result"
    }
   ],
   "source": [
    "torch.where(d > 0.5, d, 0)"
   ]
  },
  {
   "cell_type": "code",
   "execution_count": 19,
   "metadata": {},
   "outputs": [
    {
     "data": {
      "text/plain": [
       "tensor([[0.7253, 0.8667, 0.8656, 0.0950],\n",
       "        [0.1351, 0.9110, 0.7230, 0.0260]])"
      ]
     },
     "execution_count": 19,
     "metadata": {},
     "output_type": "execute_result"
    }
   ],
   "source": [
    "e = torch.rand(2,4)\n",
    "e"
   ]
  },
  {
   "cell_type": "code",
   "execution_count": 20,
   "metadata": {},
   "outputs": [
    {
     "data": {
      "text/plain": [
       "tensor([[0.7253, 0.1351],\n",
       "        [0.8667, 0.9110],\n",
       "        [0.8656, 0.7230],\n",
       "        [0.0950, 0.0260]])"
      ]
     },
     "execution_count": 20,
     "metadata": {},
     "output_type": "execute_result"
    }
   ],
   "source": [
    "e.mT"
   ]
  },
  {
   "cell_type": "code",
   "execution_count": 21,
   "metadata": {},
   "outputs": [
    {
     "data": {
      "text/plain": [
       "tensor([[0.7253, 0.1351],\n",
       "        [0.8667, 0.9110],\n",
       "        [0.8656, 0.7230],\n",
       "        [0.0950, 0.0260]])"
      ]
     },
     "execution_count": 21,
     "metadata": {},
     "output_type": "execute_result"
    }
   ],
   "source": [
    "torch.transpose(e, 0, 1)"
   ]
  },
  {
   "cell_type": "code",
   "execution_count": 31,
   "metadata": {},
   "outputs": [
    {
     "data": {
      "text/plain": [
       "tensor([[0.0561, 0.4149, 0.8361, 0.3802],\n",
       "        [0.3591, 0.6788, 0.3867, 0.6812],\n",
       "        [0.5129, 0.3352, 0.4490, 0.4133],\n",
       "        [0.9794, 0.9821, 0.9541, 0.9819]])"
      ]
     },
     "execution_count": 31,
     "metadata": {},
     "output_type": "execute_result"
    }
   ],
   "source": [
    "f = torch.rand(4, 4)\n",
    "f"
   ]
  },
  {
   "cell_type": "code",
   "execution_count": 32,
   "metadata": {},
   "outputs": [
    {
     "data": {
      "text/plain": [
       "tensor([0.0561, 0.6788, 0.4490, 0.9819])"
      ]
     },
     "execution_count": 32,
     "metadata": {},
     "output_type": "execute_result"
    }
   ],
   "source": [
    "torch.diagonal(f, 0)"
   ]
  },
  {
   "cell_type": "code",
   "execution_count": 48,
   "metadata": {},
   "outputs": [
    {
     "data": {
      "text/plain": [
       "tensor([[0.3802, 0.8361, 0.4149, 0.0561],\n",
       "        [0.6812, 0.3867, 0.6788, 0.3591],\n",
       "        [0.4133, 0.4490, 0.3352, 0.5129],\n",
       "        [0.9819, 0.9541, 0.9821, 0.9794]])"
      ]
     },
     "execution_count": 48,
     "metadata": {},
     "output_type": "execute_result"
    }
   ],
   "source": [
    "torch.flip(f, [1])"
   ]
  },
  {
   "cell_type": "code",
   "execution_count": 49,
   "metadata": {},
   "outputs": [
    {
     "data": {
      "text/plain": [
       "tensor([0.3802, 0.3867, 0.3352, 0.9794])"
      ]
     },
     "execution_count": 49,
     "metadata": {},
     "output_type": "execute_result"
    }
   ],
   "source": [
    "torch.diagonal(torch.flip(f, [1]), 0)"
   ]
  },
  {
   "cell_type": "code",
   "execution_count": 52,
   "metadata": {},
   "outputs": [
    {
     "data": {
      "text/plain": [
       "tensor([0., 1., 2., 3., 4., 5., 6., 7., 8., 9.])"
      ]
     },
     "execution_count": 52,
     "metadata": {},
     "output_type": "execute_result"
    }
   ],
   "source": [
    "g = torch.arange(10, dtype=torch.float32)\n",
    "g"
   ]
  },
  {
   "cell_type": "code",
   "execution_count": 56,
   "metadata": {},
   "outputs": [
    {
     "data": {
      "text/plain": [
       "tensor([ 0.,  1.,  3.,  6., 10., 15., 21., 28., 36., 45.])"
      ]
     },
     "execution_count": 56,
     "metadata": {},
     "output_type": "execute_result"
    }
   ],
   "source": [
    "torch.cumsum(g, dim=0)"
   ]
  },
  {
   "cell_type": "code",
   "execution_count": 66,
   "metadata": {},
   "outputs": [
    {
     "data": {
      "text/plain": [
       "tensor([[0.5399, 0.6920, 0.2963, 0.4554],\n",
       "        [0.2284, 0.3217, 0.4884, 0.4043],\n",
       "        [0.7421, 0.5990, 0.6848, 0.2188]])"
      ]
     },
     "execution_count": 66,
     "metadata": {},
     "output_type": "execute_result"
    }
   ],
   "source": [
    "h = torch.rand(3, 4)\n",
    "h"
   ]
  },
  {
   "cell_type": "code",
   "execution_count": 75,
   "metadata": {},
   "outputs": [
    {
     "data": {
      "text/plain": [
       "tensor([1.5104, 1.6128, 1.4695, 1.0784])"
      ]
     },
     "execution_count": 75,
     "metadata": {},
     "output_type": "execute_result"
    }
   ],
   "source": [
    "aa = torch.sum(h, dim=0)\n",
    "aa"
   ]
  },
  {
   "cell_type": "code",
   "execution_count": 76,
   "metadata": {},
   "outputs": [
    {
     "data": {
      "text/plain": [
       "tensor(5.6711)"
      ]
     },
     "execution_count": 76,
     "metadata": {},
     "output_type": "execute_result"
    }
   ],
   "source": [
    "torch.sum(aa, dim=0)"
   ]
  },
  {
   "cell_type": "code",
   "execution_count": 80,
   "metadata": {},
   "outputs": [
    {
     "data": {
      "text/plain": [
       "tensor([[0.5399, 1.2319, 1.5282, 1.9836],\n",
       "        [0.2284, 0.5501, 1.0385, 1.4428],\n",
       "        [0.7421, 1.3411, 2.0259, 2.2447]])"
      ]
     },
     "execution_count": 80,
     "metadata": {},
     "output_type": "execute_result"
    }
   ],
   "source": [
    "cumsum_rows = torch.cumsum(h, dim=1)\n",
    "cumsum_rows"
   ]
  },
  {
   "cell_type": "code",
   "execution_count": 81,
   "metadata": {},
   "outputs": [
    {
     "data": {
      "text/plain": [
       "tensor([[0.5399, 1.2319, 1.5282, 1.9836],\n",
       "        [0.7683, 1.7820, 2.5667, 3.4264],\n",
       "        [1.5104, 3.1231, 4.5926, 5.6711]])"
      ]
     },
     "execution_count": 81,
     "metadata": {},
     "output_type": "execute_result"
    }
   ],
   "source": [
    "torch.cumsum(cumsum_rows, dim=0)"
   ]
  },
  {
   "cell_type": "code",
   "execution_count": 79,
   "metadata": {},
   "outputs": [
    {
     "name": "stdout",
     "output_type": "stream",
     "text": [
      "Sum of elements up to (1, 2): 21\n"
     ]
    }
   ],
   "source": [
    "\n",
    "# Example 2D tensor\n",
    "x = torch.tensor([[1, 2, 3],\n",
    "                  [4, 5, 6],\n",
    "                  [7, 8, 9]])\n",
    "\n",
    "# Compute the cumulative sum along rows\n",
    "cumsum_rows = torch.cumsum(x, dim=1)\n",
    "\n",
    "# Compute the cumulative sum along columns on the result of cumsum_rows\n",
    "cumsum_2d = torch.cumsum(cumsum_rows, dim=0)\n",
    "\n",
    "# For the (i, j)th element (e.g., i = 1, j = 2)\n",
    "i, j = 1, 2\n",
    "sum_up_to_ij = cumsum_2d[i, j]\n",
    "\n",
    "print(f\"Sum of elements up to ({i}, {j}): {sum_up_to_ij.item()}\")"
   ]
  },
  {
   "cell_type": "code",
   "execution_count": 94,
   "metadata": {},
   "outputs": [
    {
     "data": {
      "text/plain": [
       "tensor([[0.5399, 0.6920, 0.0000, 0.0000],\n",
       "        [0.0000, 0.0000, 0.0000, 0.0000],\n",
       "        [0.7421, 0.5990, 0.6848, 0.0000]])"
      ]
     },
     "execution_count": 94,
     "metadata": {},
     "output_type": "execute_result"
    }
   ],
   "source": [
    "h\n",
    "torch.where(h < 0.5, torch.tensor(0, dtype=h.dtype), h)"
   ]
  },
  {
   "cell_type": "code",
   "execution_count": 89,
   "metadata": {},
   "outputs": [
    {
     "data": {
      "text/plain": [
       "tensor([[0.0558, 0.3408, 0.8043, 0.1801],\n",
       "        [0.5361, 0.6422, 0.9390, 0.7500]])"
      ]
     },
     "execution_count": 89,
     "metadata": {},
     "output_type": "execute_result"
    }
   ],
   "source": [
    "j = torch.rand(2, 4)\n",
    "j"
   ]
  },
  {
   "cell_type": "code",
   "execution_count": 97,
   "metadata": {},
   "outputs": [
    {
     "data": {
      "text/plain": [
       "tensor([[0, 0, 0, 1, 1],\n",
       "        [0, 1, 3, 0, 1]])"
      ]
     },
     "execution_count": 97,
     "metadata": {},
     "output_type": "execute_result"
    }
   ],
   "source": [
    "torch.nonzero(j < 0.7, as_tuple=False).T"
   ]
  },
  {
   "cell_type": "code",
   "execution_count": 104,
   "metadata": {},
   "outputs": [
    {
     "name": "stdout",
     "output_type": "stream",
     "text": [
      "tensor([0, 1, 5, 3, 1, 5, 6, 7, 8, 9])\n",
      "tensor([0, 6, 2, 3, 2, 5, 6, 7, 8, 9])\n"
     ]
    }
   ],
   "source": [
    "a = torch.arange(10)\n",
    "b = torch.arange(10)\n",
    "a[2] = 5\n",
    "a[4] = 1\n",
    "b[4] = 2\n",
    "b[1] = 6\n",
    "print(a)\n",
    "print(b)"
   ]
  },
  {
   "cell_type": "code",
   "execution_count": 111,
   "metadata": {},
   "outputs": [
    {
     "data": {
      "text/plain": [
       "tensor([1, 1, 1, 2, 1, 1, 1, 1])"
      ]
     },
     "execution_count": 111,
     "metadata": {},
     "output_type": "execute_result"
    }
   ],
   "source": [
    "torch.diff(torch.unique(torch.stack((a, b), dim=0), sorted=True))"
   ]
  },
  {
   "cell_type": "code",
   "execution_count": 121,
   "metadata": {},
   "outputs": [
    {
     "name": "stdout",
     "output_type": "stream",
     "text": [
      "tensor([0.6275, 0.1185, 0.2452, 0.8692])\n",
      "tensor([0.3565, 0.0963, 0.6011, 0.2639])\n"
     ]
    }
   ],
   "source": [
    "x = torch.rand(4)\n",
    "y = torch.rand(4)\n",
    "print(x)\n",
    "print(y)"
   ]
  },
  {
   "cell_type": "code",
   "execution_count": 124,
   "metadata": {},
   "outputs": [
    {
     "data": {
      "text/plain": [
       "tensor([False, False, False, False])"
      ]
     },
     "execution_count": 124,
     "metadata": {},
     "output_type": "execute_result"
    }
   ],
   "source": [
    "c = torch.abs(x - y) < 1e-3\n",
    "c"
   ]
  },
  {
   "cell_type": "code",
   "execution_count": 127,
   "metadata": {},
   "outputs": [
    {
     "data": {
      "text/plain": [
       "tensor(0)"
      ]
     },
     "execution_count": 127,
     "metadata": {},
     "output_type": "execute_result"
    }
   ],
   "source": [
    "torch.sum(torch.any(c, dim=0))"
   ]
  },
  {
   "cell_type": "code",
   "execution_count": 143,
   "metadata": {},
   "outputs": [],
   "source": [
    "inputs = [\n",
    "            ([[1.0, 2.0, 3.0]], [0.0, 0.0, 1.0]),\n",
    "            ([[-1.0, 0.0, 10.0]], [1.0, 1.0, 0.0]),\n",
    "            ([[0.1, 0.2, 0.3, 0.4, 0.5]], [1.0, 1.0, 0.0, 0.0, 1.0]),\n",
    "        ]"
   ]
  },
  {
   "cell_type": "code",
   "execution_count": 153,
   "metadata": {},
   "outputs": [
    {
     "name": "stdout",
     "output_type": "stream",
     "text": [
      "tensor([[1., 2., 3.]])\n",
      "tensor([0., 0., 1.])\n",
      "tensor([[-1.,  0., 10.]])\n",
      "tensor([1., 1., 0.])\n",
      "tensor([[0.1000, 0.2000, 0.3000, 0.4000, 0.5000]])\n",
      "tensor([1., 1., 0., 0., 1.])\n"
     ]
    }
   ],
   "source": [
    "for i in inputs:\n",
    "    print(torch.as_tensor(i[0]))\n",
    "    print(torch.as_tensor(i[1]))"
   ]
  },
  {
   "cell_type": "code",
   "execution_count": 156,
   "metadata": {},
   "outputs": [
    {
     "data": {
      "text/plain": [
       "tensor([[0.1000, 0.3000, 0.3000]])"
      ]
     },
     "execution_count": 156,
     "metadata": {},
     "output_type": "execute_result"
    }
   ],
   "source": [
    "a[0]"
   ]
  },
  {
   "cell_type": "code",
   "execution_count": 157,
   "metadata": {},
   "outputs": [
    {
     "data": {
      "text/plain": [
       "tensor(0.2333)"
      ]
     },
     "execution_count": 157,
     "metadata": {},
     "output_type": "execute_result"
    }
   ],
   "source": [
    "torch.mean(a[0])"
   ]
  },
  {
   "cell_type": "code",
   "execution_count": 216,
   "metadata": {},
   "outputs": [
    {
     "data": {
      "text/plain": [
       "tensor([[74.8000, 88.4000, 54.4000, 56.6000, 65.3000, 81.7000, 74.5000, 94.8000,\n",
       "         72.7000, 81.6000],\n",
       "        [67.4000, 70.0000, 51.1000, 58.4000, 64.6000, 75.9000, 84.8000, 90.0000,\n",
       "         58.0000, 64.1000]])"
      ]
     },
     "execution_count": 216,
     "metadata": {},
     "output_type": "execute_result"
    }
   ],
   "source": [
    "a = torch.as_tensor([[74.8000, 88.4000, 54.4000, 56.6000, 65.3000, 81.7000, 74.5000, 94.8000,\n",
    " 72.7000, 81.6000],\n",
    "[67.4000, 70.0000, 51.1000, 58.4000, 64.6000, 75.9000, 84.8000, 90.0000,\n",
    " 58.0000, 64.1000]])\n",
    "a"
   ]
  },
  {
   "cell_type": "code",
   "execution_count": 188,
   "metadata": {},
   "outputs": [
    {
     "data": {
      "text/plain": [
       "tensor([74.4800, 68.4300])"
      ]
     },
     "execution_count": 188,
     "metadata": {},
     "output_type": "execute_result"
    }
   ],
   "source": [
    "mean = torch.mean(a, dim=1)\n",
    "mean"
   ]
  },
  {
   "cell_type": "code",
   "execution_count": 200,
   "metadata": {},
   "outputs": [
    {
     "data": {
      "text/plain": [
       "tensor([[3.2001e-01, 1.3920e+01, 2.0080e+01, 1.7880e+01, 9.1800e+00, 7.2200e+00,\n",
       "         2.0004e-02, 2.0320e+01, 1.7800e+00, 7.1200e+00],\n",
       "        [1.0300e+00, 1.5700e+00, 1.7330e+01, 1.0030e+01, 3.8300e+00, 7.4700e+00,\n",
       "         1.6370e+01, 2.1570e+01, 1.0430e+01, 4.3300e+00]])"
      ]
     },
     "execution_count": 200,
     "metadata": {},
     "output_type": "execute_result"
    }
   ],
   "source": [
    "diff = torch.abs(a - mean.unsqueeze(1))\n",
    "diff"
   ]
  },
  {
   "cell_type": "code",
   "execution_count": 204,
   "metadata": {},
   "outputs": [
    {
     "data": {
      "text/plain": [
       "tensor([94.8000, 90.0000])"
      ]
     },
     "execution_count": 204,
     "metadata": {},
     "output_type": "execute_result"
    }
   ],
   "source": [
    "max_indices = torch.argmax(diff, dim=1)\n",
    "most_extreme_measurements = a[torch.arange(a.size(0)), max_indices]\n",
    "most_extreme_measurements"
   ]
  },
  {
   "cell_type": "code",
   "execution_count": 209,
   "metadata": {},
   "outputs": [
    {
     "data": {
      "text/plain": [
       "1"
      ]
     },
     "execution_count": 209,
     "metadata": {},
     "output_type": "execute_result"
    }
   ],
   "source": [
    "max_indices.ndim"
   ]
  },
  {
   "cell_type": "code",
   "execution_count": 215,
   "metadata": {},
   "outputs": [
    {
     "data": {
      "text/plain": [
       "tensor([94.8000, 90.0000])"
      ]
     },
     "execution_count": 215,
     "metadata": {},
     "output_type": "execute_result"
    }
   ],
   "source": [
    "torch.gather(a, dim=1, index=max_indices.unsqueeze(1)).squeeze(1)"
   ]
  },
  {
   "cell_type": "code",
   "execution_count": 217,
   "metadata": {},
   "outputs": [
    {
     "data": {
      "text/plain": [
       "tensor([67.4000, 70.0000, 51.1000, 58.4000, 64.6000, 75.9000, 84.8000, 90.0000,\n",
       "        58.0000, 64.1000])"
      ]
     },
     "execution_count": 217,
     "metadata": {},
     "output_type": "execute_result"
    }
   ],
   "source": [
    "a[-1, :]"
   ]
  }
 ],
 "metadata": {
  "kernelspec": {
   "display_name": ".venv",
   "language": "python",
   "name": "python3"
  },
  "language_info": {
   "codemirror_mode": {
    "name": "ipython",
    "version": 3
   },
   "file_extension": ".py",
   "mimetype": "text/x-python",
   "name": "python",
   "nbconvert_exporter": "python",
   "pygments_lexer": "ipython3",
   "version": "3.12.8"
  }
 },
 "nbformat": 4,
 "nbformat_minor": 2
}
