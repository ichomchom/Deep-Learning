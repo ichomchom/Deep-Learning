{
 "cells": [
  {
   "cell_type": "code",
   "execution_count": 2,
   "metadata": {},
   "outputs": [],
   "source": [
    "import torch"
   ]
  },
  {
   "cell_type": "code",
   "execution_count": 3,
   "metadata": {},
   "outputs": [
    {
     "data": {
      "text/plain": [
       "torch.Size([16, 10, 128])"
      ]
     },
     "execution_count": 3,
     "metadata": {},
     "output_type": "execute_result"
    }
   ],
   "source": [
    "class TransformerLayer(torch.nn.Module):\n",
    "    def __init__(self, embed_dim, num_heads):\n",
    "        super().__init__()\n",
    "\n",
    "        self.self_att = torch.nn.MultiheadAttention(embed_dim, num_heads, batch_first=True)\n",
    "        self.mlp = torch.nn.Sequential(\n",
    "            torch.nn.Linear(embed_dim, 4 * embed_dim),\n",
    "            torch.nn.ReLU(),\n",
    "            torch.nn.Linear(4 * embed_dim, embed_dim)\n",
    "        )\n",
    "        self.in_norm = torch.nn.LayerNorm(embed_dim)\n",
    "        self.mlp_norm = torch.nn.LayerNorm(embed_dim)\n",
    "\n",
    "    def forward(self, x):\n",
    "        x_norm = self.in_norm(x)\n",
    "        x = x + self.self_att(x_norm, x_norm, x_norm)[0]\n",
    "        x = x + self.mlp(self.mlp_norm(x))\n",
    "        return x\n",
    "\n",
    "# class Transformer(torch.nn.Module):\n",
    "#     def __init__(self, embed_dim, num_heads, num_layers):\n",
    "#         super().__init__()\n",
    "#         self.layers = torch.nn.ModuleList(\n",
    "#             [\n",
    "#                 TransformerLayer(embed_dim, num_heads) for _ in range(num_layers)\n",
    "#             ]\n",
    "#         )\n",
    "\n",
    "#     def forward(self, x):\n",
    "#         for layer in self.layers:\n",
    "#             x = layer(x)\n",
    "#         return x\n",
    "\n",
    "    ## Compact way\n",
    "class Transformer(torch.nn.Module):\n",
    "    def __init__(self, embed_dim, num_heads, num_layers):\n",
    "        super().__init__()\n",
    "        self.network = torch.nn.Sequential(\n",
    "            *[\n",
    "                TransformerLayer(embed_dim, num_heads) for _ in range(num_layers)\n",
    "            ]\n",
    "        )\n",
    "\n",
    "    def forward(self, x):\n",
    "        return self.network(x)\n",
    "\n",
    "net = Transformer(128, 8, 4)\n",
    "net(torch.rand(16, 10, 128)).shape"
   ]
  },
  {
   "cell_type": "code",
   "execution_count": 4,
   "metadata": {},
   "outputs": [
    {
     "data": {
      "text/plain": [
       "Transformer(\n",
       "  (network): Sequential(\n",
       "    (0): TransformerLayer(\n",
       "      (self_att): MultiheadAttention(\n",
       "        (out_proj): NonDynamicallyQuantizableLinear(in_features=128, out_features=128, bias=True)\n",
       "      )\n",
       "      (mlp): Sequential(\n",
       "        (0): Linear(in_features=128, out_features=512, bias=True)\n",
       "        (1): ReLU()\n",
       "        (2): Linear(in_features=512, out_features=128, bias=True)\n",
       "      )\n",
       "      (in_norm): LayerNorm((128,), eps=1e-05, elementwise_affine=True)\n",
       "      (mlp_norm): LayerNorm((128,), eps=1e-05, elementwise_affine=True)\n",
       "    )\n",
       "    (1): TransformerLayer(\n",
       "      (self_att): MultiheadAttention(\n",
       "        (out_proj): NonDynamicallyQuantizableLinear(in_features=128, out_features=128, bias=True)\n",
       "      )\n",
       "      (mlp): Sequential(\n",
       "        (0): Linear(in_features=128, out_features=512, bias=True)\n",
       "        (1): ReLU()\n",
       "        (2): Linear(in_features=512, out_features=128, bias=True)\n",
       "      )\n",
       "      (in_norm): LayerNorm((128,), eps=1e-05, elementwise_affine=True)\n",
       "      (mlp_norm): LayerNorm((128,), eps=1e-05, elementwise_affine=True)\n",
       "    )\n",
       "    (2): TransformerLayer(\n",
       "      (self_att): MultiheadAttention(\n",
       "        (out_proj): NonDynamicallyQuantizableLinear(in_features=128, out_features=128, bias=True)\n",
       "      )\n",
       "      (mlp): Sequential(\n",
       "        (0): Linear(in_features=128, out_features=512, bias=True)\n",
       "        (1): ReLU()\n",
       "        (2): Linear(in_features=512, out_features=128, bias=True)\n",
       "      )\n",
       "      (in_norm): LayerNorm((128,), eps=1e-05, elementwise_affine=True)\n",
       "      (mlp_norm): LayerNorm((128,), eps=1e-05, elementwise_affine=True)\n",
       "    )\n",
       "    (3): TransformerLayer(\n",
       "      (self_att): MultiheadAttention(\n",
       "        (out_proj): NonDynamicallyQuantizableLinear(in_features=128, out_features=128, bias=True)\n",
       "      )\n",
       "      (mlp): Sequential(\n",
       "        (0): Linear(in_features=128, out_features=512, bias=True)\n",
       "        (1): ReLU()\n",
       "        (2): Linear(in_features=512, out_features=128, bias=True)\n",
       "      )\n",
       "      (in_norm): LayerNorm((128,), eps=1e-05, elementwise_affine=True)\n",
       "      (mlp_norm): LayerNorm((128,), eps=1e-05, elementwise_affine=True)\n",
       "    )\n",
       "  )\n",
       ")"
      ]
     },
     "execution_count": 4,
     "metadata": {},
     "output_type": "execute_result"
    }
   ],
   "source": [
    "net"
   ]
  }
 ],
 "metadata": {
  "kernelspec": {
   "display_name": ".venv",
   "language": "python",
   "name": "python3"
  },
  "language_info": {
   "codemirror_mode": {
    "name": "ipython",
    "version": 3
   },
   "file_extension": ".py",
   "mimetype": "text/x-python",
   "name": "python",
   "nbconvert_exporter": "python",
   "pygments_lexer": "ipython3",
   "version": "3.12.3"
  }
 },
 "nbformat": 4,
 "nbformat_minor": 2
}
