{
 "cells": [
  {
   "cell_type": "code",
   "execution_count": 1,
   "metadata": {},
   "outputs": [],
   "source": [
    "import torch"
   ]
  },
  {
   "cell_type": "code",
   "execution_count": null,
   "metadata": {},
   "outputs": [],
   "source": [
    "torch_attention = torch.nn.MultiheadAttention(16, 4, 0, batch_first=True)\n",
    "# 16 embeding dimension as input, 4 attentions, 0 dropout (disable), batch_first flag means that the first dimension of our inputs is patch size"
   ]
  },
  {
   "cell_type": "code",
   "execution_count": 6,
   "metadata": {},
   "outputs": [
    {
     "name": "stdout",
     "output_type": "stream",
     "text": [
      "torch.Size([10, 5, 16])\n",
      "[('in_proj_weight', torch.Size([48, 16])), ('in_proj_bias', torch.Size([48])), ('out_proj.weight', torch.Size([16, 16])), ('out_proj.bias', torch.Size([16]))]\n"
     ]
    }
   ],
   "source": [
    "k, v, q = torch.rand(10, 3, 16), torch.rand(10, 3, 16), torch.rand(10, 5, 16)\n",
    "o, _ = torch_attention(q, k, v)\n",
    "print(o.shape)\n",
    "print([(n, v.shape) for n, v in list(torch_attention.named_parameters())])"
   ]
  },
  {
   "cell_type": "code",
   "execution_count": 15,
   "metadata": {},
   "outputs": [
    {
     "name": "stdout",
     "output_type": "stream",
     "text": [
      "torch.Size([10, 5, 16]) torch.Size([10, 5, 16])\n"
     ]
    }
   ],
   "source": [
    "class MHA(torch.nn.Module):\n",
    "    def __init__(self, embed_dim, num_heads) -> None:\n",
    "        super().__init__()\n",
    "        self.in_proj_k = torch.nn.Linear(embed_dim, embed_dim)\n",
    "        self.in_proj_v = torch.nn.Linear(embed_dim, embed_dim)\n",
    "        self.in_proj_q = torch.nn.Linear(embed_dim, embed_dim)\n",
    "        self.out_proj = torch.nn.Linear(embed_dim, embed_dim)\n",
    "        self.n_heads = num_heads\n",
    "\n",
    "    def forward(self, q, k, v):\n",
    "        from einops import rearrange\n",
    "        p_q, p_k, p_v = self.in_proj_q(q), self.in_proj_k(k), self.in_proj_v(v)\n",
    "\n",
    "        r_q = rearrange(p_q, 'b m (h d) -> b h m d', h=self.n_heads)\n",
    "        # rearrange query, we have batch dimension, then the next dimension is the number of keys we have\n",
    "        r_k = rearrange(p_k, 'b n (h d) -> b h n d', h=self.n_heads)\n",
    "        r_v = rearrange(p_v, 'b n (h d) -> b h n d', h=self.n_heads)\n",
    "\n",
    "        scores = torch.einsum('b h m d, b h n d -> b h m n', r_q, r_k)\n",
    "        # einsum allows you to specify dimensions of inputs, then it will multiply the first and the second input together\n",
    "        # element wise, and sum over everything that you didn't specify would be in the output\n",
    "        # this give us the raw attention weight\n",
    "        attn = torch.nn.functional.softmax(scores, dim=-1)\n",
    "        result = torch.einsum('b h m n, b h n d -> b h m d', attn, r_v)\n",
    "\n",
    "        r_result = rearrange(result, 'b h m d -> b m (h d)')\n",
    "\n",
    "        return self.out_proj(r_result)\n",
    "\n",
    "our_attention = MHA(16, 4)\n",
    "o_our = our_attention(q, k, v)\n",
    "o_torch, _ = torch_attention(q, k, v)\n",
    "print(o.shape, o_torch.shape)"
   ]
  },
  {
   "cell_type": "code",
   "execution_count": 1,
   "metadata": {},
   "outputs": [
    {
     "name": "stdout",
     "output_type": "stream",
     "text": [
      "True\n"
     ]
    }
   ],
   "source": [
    "import torch\n",
    "\n",
    "if torch.backends.mps.is_available():\n",
    "    print(\"True\")\n",
    "else:\n",
    "    print(\"False\")"
   ]
  }
 ],
 "metadata": {
  "kernelspec": {
   "display_name": ".venv",
   "language": "python",
   "name": "python3"
  },
  "language_info": {
   "codemirror_mode": {
    "name": "ipython",
    "version": 3
   },
   "file_extension": ".py",
   "mimetype": "text/x-python",
   "name": "python",
   "nbconvert_exporter": "python",
   "pygments_lexer": "ipython3",
   "version": "3.12.9"
  }
 },
 "nbformat": 4,
 "nbformat_minor": 2
}
