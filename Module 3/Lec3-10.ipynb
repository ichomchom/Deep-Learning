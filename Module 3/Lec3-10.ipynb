{
 "cells": [
  {
   "cell_type": "code",
   "execution_count": 1,
   "metadata": {},
   "outputs": [],
   "source": [
    "import torch"
   ]
  },
  {
   "cell_type": "code",
   "execution_count": null,
   "metadata": {},
   "outputs": [
    {
     "data": {
      "text/plain": [
       "tensor([0.9752], grad_fn=<ViewBackward0>)"
      ]
     },
     "execution_count": 6,
     "metadata": {},
     "output_type": "execute_result"
    }
   ],
   "source": [
    "class Net(torch.nn.Module):\n",
    "    def __init__(self) -> None:\n",
    "        super().__init__() # call this so the torch module internally in its class has certain things it keeps track of\n",
    "        self.fc1_x = torch.nn.Linear(1, 10)\n",
    "        self.fc1_y = torch.nn.Linear(1, 10)\n",
    "\n",
    "        self.fc2 = torch.nn.Linear(10, 1)\n",
    "        self.act = torch.nn.ReLU()\n",
    "        # define the layer inside the init function, example 2 linear layers\n",
    "    \n",
    "    def forward(self, x: torch.Tensor, y: torch.Tensor) -> torch.Tensor:\n",
    "        x = self.fc1_x(x)\n",
    "        x = self.act(x)\n",
    "        y = self.fc1_y(y)\n",
    "        y = self.act(y)\n",
    "        return self.fc2(x + y)\n",
    "        # forward usually gets an input tensor, often time output a tensor\n",
    "        # then we can feed it through the connected layer\n",
    "        # linear, ReLU, linear\n",
    "\n",
    "net = Net()\n",
    "r = net(torch.tensor([1.0]), torch.tensor([2.0]))\n",
    "r.backward()\n",
    "# compute gradient"
   ]
  }
 ],
 "metadata": {
  "kernelspec": {
   "display_name": ".venv",
   "language": "python",
   "name": "python3"
  },
  "language_info": {
   "codemirror_mode": {
    "name": "ipython",
    "version": 3
   },
   "file_extension": ".py",
   "mimetype": "text/x-python",
   "name": "python",
   "nbconvert_exporter": "python",
   "pygments_lexer": "ipython3",
   "version": "3.12.3"
  }
 },
 "nbformat": 4,
 "nbformat_minor": 2
}
