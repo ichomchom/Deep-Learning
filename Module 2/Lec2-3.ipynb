{
 "cells": [
  {
   "cell_type": "code",
   "execution_count": 32,
   "metadata": {},
   "outputs": [],
   "source": [
    "import torch\n"
   ]
  },
  {
   "cell_type": "code",
   "execution_count": 33,
   "metadata": {},
   "outputs": [],
   "source": [
    "model = torch.nn.Linear(10, 1)"
   ]
  },
  {
   "cell_type": "code",
   "execution_count": 34,
   "metadata": {},
   "outputs": [
    {
     "name": "stdout",
     "output_type": "stream",
     "text": [
      "x=tensor([[ 0.0790, -0.2198,  0.6648,  1.0009, -0.0825,  3.3295,  0.1987,  0.4668,\n",
      "         -1.5555, -0.3773],\n",
      "        [-2.8235,  0.1702, -0.7286,  1.0118,  1.2626,  0.2024, -0.4130, -0.7129,\n",
      "         -2.0155, -1.0843],\n",
      "        [ 0.2030,  0.0189, -1.6412,  1.3562,  1.1972,  0.3893,  0.0040, -0.3367,\n",
      "         -0.2796,  0.7355],\n",
      "        [ 1.2833,  0.0755, -2.4818, -0.4916,  1.3276,  0.2886, -0.9449, -0.5213,\n",
      "          0.0175, -1.0955],\n",
      "        [-0.0385, -0.0769,  2.6433, -0.0529,  1.2493, -0.0567, -2.2564, -1.1174,\n",
      "         -0.1055, -0.6689],\n",
      "        [ 2.0106, -0.0133, -1.0841,  0.7458, -0.3332, -0.2201,  0.9818,  1.0895,\n",
      "         -0.8687, -0.1477],\n",
      "        [-0.9575, -1.0020,  0.0075, -2.2585, -0.6990, -1.1712,  0.1661, -0.2547,\n",
      "         -0.5416,  1.0276],\n",
      "        [ 0.4514, -0.5068, -0.6664, -0.7749, -1.0564,  0.2733,  1.0128, -0.8390,\n",
      "          0.9935,  1.0491],\n",
      "        [ 0.4897,  0.7662,  2.0122,  0.3423,  0.2106,  0.3157, -0.1454,  0.7351,\n",
      "         -0.7485, -1.4482],\n",
      "        [-0.1741, -0.5886,  0.4352,  0.8353, -0.7291, -0.6540, -0.4075, -0.3700,\n",
      "          0.0798,  0.0099],\n",
      "        [ 0.3901,  0.2089, -1.0761, -0.6535, -0.7568, -0.2059,  0.4087, -0.4073,\n",
      "         -1.3590, -0.7175],\n",
      "        [ 0.0733,  0.5052,  2.4242,  0.5416, -1.1212,  0.3484,  0.9445,  1.1234,\n",
      "          0.1131,  0.3339],\n",
      "        [ 1.8489,  2.4825, -0.3585, -0.3963,  1.8120, -1.7504, -0.0342, -1.3686,\n",
      "          1.6146, -0.4002],\n",
      "        [ 1.3564, -0.1942, -0.8738, -0.1186, -0.1849, -0.7114, -0.1046, -0.3940,\n",
      "          1.5809, -0.7357],\n",
      "        [ 1.5093,  0.3673, -1.3777,  1.9415, -1.4883, -2.9777,  0.8907, -1.2120,\n",
      "          1.9118,  0.8594],\n",
      "        [ 0.7185, -0.0893, -2.4407,  1.2550, -0.7271,  0.3731,  0.4809,  0.6642,\n",
      "          0.7881, -0.6257],\n",
      "        [-0.0487,  0.0581, -1.0254, -1.8417,  0.8778, -2.0316,  1.4913, -0.4689,\n",
      "         -0.4879,  0.1513],\n",
      "        [-0.5585,  2.1884, -0.7728,  0.9405, -0.5390, -0.3685,  0.9076,  0.7287,\n",
      "         -0.0859,  0.2899],\n",
      "        [ 0.8659, -0.1265, -1.1765,  1.2308,  0.7528, -0.3001,  0.5797, -0.1157,\n",
      "          3.7020, -1.1104],\n",
      "        [ 0.1758,  0.8761, -0.2134,  0.2471,  1.2207,  0.0085, -0.8327,  0.5725,\n",
      "         -0.0100, -0.7068]])\n",
      "y=tensor([[-0.4973],\n",
      "        [-0.1362],\n",
      "        [-1.8299],\n",
      "        [ 0.4712],\n",
      "        [-0.3596],\n",
      "        [ 1.6981],\n",
      "        [-1.0695],\n",
      "        [ 0.7376],\n",
      "        [ 1.8787],\n",
      "        [ 0.1833],\n",
      "        [ 0.0594],\n",
      "        [ 0.7592],\n",
      "        [ 1.2876],\n",
      "        [ 1.4650],\n",
      "        [ 0.3255],\n",
      "        [ 0.2695],\n",
      "        [-0.4792],\n",
      "        [-0.0329],\n",
      "        [ 0.0712],\n",
      "        [ 1.1906]])\n"
     ]
    }
   ],
   "source": [
    "x = torch.randn(20, 10)\n",
    "y = torch.randn(20, 1)\n",
    "print(f'{x=}')\n",
    "print(f'{y=}')"
   ]
  },
  {
   "cell_type": "code",
   "execution_count": 35,
   "metadata": {},
   "outputs": [
    {
     "name": "stdout",
     "output_type": "stream",
     "text": [
      "tensor([[ 0.1033],\n",
      "        [ 0.6147],\n",
      "        [ 0.7860],\n",
      "        [ 0.5080],\n",
      "        [ 0.2105],\n",
      "        [-0.2513],\n",
      "        [-0.8349],\n",
      "        [-0.2584],\n",
      "        [-0.3359],\n",
      "        [-0.1754],\n",
      "        [-0.1505],\n",
      "        [-0.6918],\n",
      "        [ 0.8975],\n",
      "        [-0.1665],\n",
      "        [ 0.2933],\n",
      "        [ 0.0246],\n",
      "        [-0.3584],\n",
      "        [ 0.3379],\n",
      "        [ 0.0699],\n",
      "        [ 0.2618]], grad_fn=<AddmmBackward0>)\n"
     ]
    }
   ],
   "source": [
    "pred_y = model(x)\n",
    "print(pred_y)"
   ]
  },
  {
   "cell_type": "code",
   "execution_count": 36,
   "metadata": {},
   "outputs": [
    {
     "name": "stdout",
     "output_type": "stream",
     "text": [
      "tensor(1.2007, grad_fn=<MseLossBackward0>)\n"
     ]
    }
   ],
   "source": [
    "#y, pred_y\n",
    "loss = torch.nn.functional.mse_loss(pred_y, y)\n",
    "print(loss)"
   ]
  },
  {
   "cell_type": "code",
   "execution_count": 37,
   "metadata": {},
   "outputs": [
    {
     "data": {
      "text/plain": [
       "tensor(1.2007, grad_fn=<MeanBackward0>)"
      ]
     },
     "execution_count": 37,
     "metadata": {},
     "output_type": "execute_result"
    }
   ],
   "source": [
    "def mse_loss(pred_y, y):\n",
    "    return torch.mean((pred_y - y) ** 2)\n",
    "mse_loss(pred_y, y)"
   ]
  },
  {
   "cell_type": "code",
   "execution_count": 38,
   "metadata": {},
   "outputs": [
    {
     "name": "stdout",
     "output_type": "stream",
     "text": [
      "tensor([[0.],\n",
      "        [0.],\n",
      "        [0.],\n",
      "        [1.],\n",
      "        [1.],\n",
      "        [1.],\n",
      "        [1.],\n",
      "        [1.],\n",
      "        [1.],\n",
      "        [1.],\n",
      "        [1.],\n",
      "        [0.],\n",
      "        [0.],\n",
      "        [0.],\n",
      "        [0.],\n",
      "        [0.],\n",
      "        [1.],\n",
      "        [0.],\n",
      "        [0.],\n",
      "        [1.]])\n"
     ]
    }
   ],
   "source": [
    "y = (torch.randn(20, 1) > 0).float()\n",
    "print(y)"
   ]
  },
  {
   "cell_type": "code",
   "execution_count": 39,
   "metadata": {},
   "outputs": [
    {
     "name": "stdout",
     "output_type": "stream",
     "text": [
      "tensor(0.8091, grad_fn=<BinaryCrossEntropyWithLogitsBackward0>)\n"
     ]
    }
   ],
   "source": [
    "loss = torch.nn.functional.binary_cross_entropy_with_logits(pred_y, y)\n",
    "print(loss)"
   ]
  },
  {
   "cell_type": "code",
   "execution_count": 40,
   "metadata": {},
   "outputs": [
    {
     "name": "stdout",
     "output_type": "stream",
     "text": [
      "tensor([0, 0, 0, 0, 1, 1, 2, 0, 0, 1, 2, 0, 0, 1, 0, 0, 0, 0, 1, 1])\n"
     ]
    }
   ],
   "source": [
    "#multi-class classification expect long as label\n",
    "n_classes = 3\n",
    "model = torch.nn.Linear(10, n_classes)\n",
    "y = (torch.randn(20) > 0).long() + (torch.randn(20) > 0).long()\n",
    "print(y)"
   ]
  },
  {
   "cell_type": "code",
   "execution_count": 41,
   "metadata": {},
   "outputs": [
    {
     "name": "stdout",
     "output_type": "stream",
     "text": [
      "tensor(1.0546, grad_fn=<NllLossBackward0>)\n"
     ]
    }
   ],
   "source": [
    "pred_y = model(x)\n",
    "loss = torch.nn.functional.cross_entropy(pred_y, y)\n",
    "print(loss)\n",
    "\n",
    "#"
   ]
  }
 ],
 "metadata": {
  "kernelspec": {
   "display_name": ".venv",
   "language": "python",
   "name": "python3"
  },
  "language_info": {
   "codemirror_mode": {
    "name": "ipython",
    "version": 3
   },
   "file_extension": ".py",
   "mimetype": "text/x-python",
   "name": "python",
   "nbconvert_exporter": "python",
   "pygments_lexer": "ipython3",
   "version": "3.12.3"
  }
 },
 "nbformat": 4,
 "nbformat_minor": 2
}
