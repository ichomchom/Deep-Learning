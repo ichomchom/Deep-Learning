{
 "cells": [
  {
   "cell_type": "code",
   "execution_count": null,
   "id": "3a6addfb",
   "metadata": {
    "execution": {
     "iopub.execute_input": "2024-06-09T08:00:27.857201Z",
     "iopub.status.busy": "2024-06-09T08:00:27.857000Z",
     "iopub.status.idle": "2024-06-09T08:00:28.834607Z",
     "shell.execute_reply": "2024-06-09T08:00:28.833940Z"
    }
   },
   "outputs": [],
   "source": [
    "# Imports\n",
    "import torch"
   ]
  },
  {
   "cell_type": "code",
   "execution_count": null,
   "id": "c838b23f",
   "metadata": {
    "execution": {
     "iopub.execute_input": "2024-06-09T08:00:28.836866Z",
     "iopub.status.busy": "2024-06-09T08:00:28.836660Z",
     "iopub.status.idle": "2024-06-09T08:00:28.843404Z",
     "shell.execute_reply": "2024-06-09T08:00:28.842962Z"
    }
   },
   "outputs": [],
   "source": [
    "# Let's create a new tensor and use requires_grad=True\n",
    "\n",
    "a = torch.rand(10, requires_grad=True)\n",
    "a"
   ]
  },
  {
   "cell_type": "code",
   "execution_count": null,
   "id": "6ae34256",
   "metadata": {
    "execution": {
     "iopub.execute_input": "2024-06-09T08:00:28.845284Z",
     "iopub.status.busy": "2024-06-09T08:00:28.845139Z",
     "iopub.status.idle": "2024-06-09T08:00:28.849993Z",
     "shell.execute_reply": "2024-06-09T08:00:28.849411Z"
    }
   },
   "outputs": [],
   "source": [
    "# Let's build up a computation graph\n",
    "# notice how this tensor had a special function called grad_fn\n",
    "\n",
    "b = a * 2\n",
    "b"
   ]
  },
  {
   "cell_type": "code",
   "execution_count": null,
   "id": "3c75f266",
   "metadata": {
    "execution": {
     "iopub.execute_input": "2024-06-09T08:00:28.851814Z",
     "iopub.status.busy": "2024-06-09T08:00:28.851673Z",
     "iopub.status.idle": "2024-06-09T08:00:28.856577Z",
     "shell.execute_reply": "2024-06-09T08:00:28.856030Z"
    }
   },
   "outputs": [],
   "source": [
    "# Lets compute one more tensor\n",
    "c = b.mean()\n",
    "c"
   ]
  },
  {
   "cell_type": "code",
   "execution_count": null,
   "id": "7c1f2e5b",
   "metadata": {
    "execution": {
     "iopub.execute_input": "2024-06-09T08:00:28.858393Z",
     "iopub.status.busy": "2024-06-09T08:00:28.858251Z",
     "iopub.status.idle": "2024-06-09T08:00:28.884107Z",
     "shell.execute_reply": "2024-06-09T08:00:28.883430Z"
    }
   },
   "outputs": [],
   "source": [
    "# Since this is a scalar we can call backward on it\n",
    "c.backward()"
   ]
  },
  {
   "cell_type": "code",
   "execution_count": null,
   "id": "030a8827",
   "metadata": {
    "execution": {
     "iopub.execute_input": "2024-06-09T08:00:28.886070Z",
     "iopub.status.busy": "2024-06-09T08:00:28.885881Z",
     "iopub.status.idle": "2024-06-09T08:00:28.889759Z",
     "shell.execute_reply": "2024-06-09T08:00:28.889350Z"
    },
    "lines_to_next_cell": 0
   },
   "outputs": [],
   "source": [
    "# Now we can see the gradients of a\n",
    "a.grad"
   ]
  },
  {
   "cell_type": "code",
   "execution_count": null,
   "id": "df2b1b53",
   "metadata": {
    "execution": {
     "iopub.execute_input": "2024-06-09T08:00:28.891535Z",
     "iopub.status.busy": "2024-06-09T08:00:28.891359Z",
     "iopub.status.idle": "2024-06-09T08:00:28.895470Z",
     "shell.execute_reply": "2024-06-09T08:00:28.894944Z"
    }
   },
   "outputs": [],
   "source": [
    "\n",
    "torch.cuda.memory_allocated()"
   ]
  },
  {
   "cell_type": "code",
   "execution_count": null,
   "id": "d88c790c",
   "metadata": {
    "execution": {
     "iopub.execute_input": "2024-06-09T08:00:28.897306Z",
     "iopub.status.busy": "2024-06-09T08:00:28.897126Z",
     "iopub.status.idle": "2024-06-09T08:00:29.002992Z",
     "shell.execute_reply": "2024-06-09T08:00:29.002522Z"
    }
   },
   "outputs": [],
   "source": [
    "\n",
    "a = torch.rand(2**20, requires_grad=True, device=\"cuda\")\n",
    "torch.cuda.memory_allocated() / 1024.0**2"
   ]
  },
  {
   "cell_type": "code",
   "execution_count": null,
   "id": "8eb7fc2e",
   "metadata": {
    "execution": {
     "iopub.execute_input": "2024-06-09T08:00:29.005789Z",
     "iopub.status.busy": "2024-06-09T08:00:29.005622Z",
     "iopub.status.idle": "2024-06-09T08:00:29.032414Z",
     "shell.execute_reply": "2024-06-09T08:00:29.031942Z"
    }
   },
   "outputs": [],
   "source": [
    "b = torch.relu(a)\n",
    "torch.cuda.memory_allocated() / 1024.0**2"
   ]
  },
  {
   "cell_type": "code",
   "execution_count": null,
   "id": "b0cc6ae2",
   "metadata": {
    "execution": {
     "iopub.execute_input": "2024-06-09T08:00:29.036131Z",
     "iopub.status.busy": "2024-06-09T08:00:29.035981Z",
     "iopub.status.idle": "2024-06-09T08:00:29.043331Z",
     "shell.execute_reply": "2024-06-09T08:00:29.042898Z"
    }
   },
   "outputs": [],
   "source": [
    "\n",
    "b = a\n",
    "for _ in range(100):\n",
    "    b = torch.relu(b)\n",
    "torch.cuda.memory_allocated() / 1024.0**2"
   ]
  },
  {
   "cell_type": "code",
   "execution_count": null,
   "id": "e64a1c87",
   "metadata": {
    "execution": {
     "iopub.execute_input": "2024-06-09T08:00:29.046884Z",
     "iopub.status.busy": "2024-06-09T08:00:29.046731Z",
     "iopub.status.idle": "2024-06-09T08:00:29.073366Z",
     "shell.execute_reply": "2024-06-09T08:00:29.072900Z"
    }
   },
   "outputs": [],
   "source": [
    "\n",
    "b.sum().backward()\n",
    "torch.cuda.memory_allocated() / 1024.0**2"
   ]
  },
  {
   "cell_type": "code",
   "execution_count": null,
   "id": "3618a63e",
   "metadata": {
    "execution": {
     "iopub.execute_input": "2024-06-09T08:00:29.075209Z",
     "iopub.status.busy": "2024-06-09T08:00:29.075041Z",
     "iopub.status.idle": "2024-06-09T08:00:29.195762Z",
     "shell.execute_reply": "2024-06-09T08:00:29.195282Z"
    }
   },
   "outputs": [],
   "source": [
    "a.grad"
   ]
  },
  {
   "cell_type": "code",
   "execution_count": null,
   "id": "c98d205d",
   "metadata": {},
   "outputs": [],
   "source": []
  }
 ],
 "metadata": {
  "jupytext": {
   "notebook_metadata_filter": "title"
  },
  "kernelspec": {
   "display_name": "Python 3 (ipykernel)",
   "language": "python",
   "name": "python3"
  },
  "language_info": {
   "codemirror_mode": {
    "name": "ipython",
    "version": 3
   },
   "file_extension": ".py",
   "mimetype": "text/x-python",
   "name": "python",
   "nbconvert_exporter": "python",
   "pygments_lexer": "ipython3",
   "version": "3.11.5"
  },
  "title": "Computation Graphs in PyTorch"
 },
 "nbformat": 4,
 "nbformat_minor": 5
}
