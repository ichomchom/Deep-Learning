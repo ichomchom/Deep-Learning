{
 "cells": [
  {
   "cell_type": "code",
   "execution_count": 12,
   "metadata": {},
   "outputs": [],
   "source": [
    "import torch\n",
    "import torch.nn as nn\n",
    "from torch import Tensor"
   ]
  },
  {
   "cell_type": "code",
   "execution_count": 8,
   "metadata": {},
   "outputs": [],
   "source": [
    "model = nn.Linear(10, 1)"
   ]
  },
  {
   "cell_type": "code",
   "execution_count": 5,
   "metadata": {},
   "outputs": [
    {
     "name": "stdout",
     "output_type": "stream",
     "text": [
      "Parameter containing:\n",
      "tensor([[ 0.0526, -0.2603, -0.2663, -0.2465,  0.2104, -0.0732, -0.0741, -0.0360,\n",
      "          0.1114, -0.2275]], requires_grad=True)\n",
      "Parameter containing:\n",
      "tensor([0.2769], requires_grad=True)\n"
     ]
    }
   ],
   "source": [
    "print(f\"{model.weight}\")\n",
    "print(f\"{model.bias}\")"
   ]
  },
  {
   "cell_type": "code",
   "execution_count": 9,
   "metadata": {},
   "outputs": [
    {
     "data": {
      "text/plain": [
       "tensor([0.1685], grad_fn=<ViewBackward0>)"
      ]
     },
     "execution_count": 9,
     "metadata": {},
     "output_type": "execute_result"
    }
   ],
   "source": [
    "x = torch.zeros(10)\n",
    "model(x)"
   ]
  },
  {
   "cell_type": "code",
   "execution_count": 21,
   "metadata": {},
   "outputs": [
    {
     "name": "stdout",
     "output_type": "stream",
     "text": [
      "LinearClassifier(\n",
      "  (fc): Linear(in_features=10, out_features=1, bias=True)\n",
      ")\n",
      "Parameter containing:\n",
      "tensor([[-0.3097,  0.2713, -0.2837,  0.2717,  0.1321,  0.1599, -0.2992,  0.1218,\n",
      "         -0.2987, -0.3124]], requires_grad=True)\n",
      "Parameter containing:\n",
      "tensor([0.2715], requires_grad=True)\n",
      "tensor([0.5675], grad_fn=<SigmoidBackward0>)\n"
     ]
    }
   ],
   "source": [
    "class LinearClassifier(torch.nn.Module):\n",
    "    def __init__(self, input_dim, output_dim) -> None:\n",
    "        super().__init__()\n",
    "        self.fc = torch.nn.Linear(input_dim, output_dim)\n",
    "\n",
    "    def forward(self, x) -> Tensor:\n",
    "        return nn.functional.sigmoid(self.fc(x))\n",
    "\n",
    "\n",
    "model = LinearClassifier(10, 1)\n",
    "print(model)\n",
    "print(model.fc.weight)\n",
    "print(model.fc.bias)\n",
    "x = torch.zeros(10)\n",
    "print(model(x))"
   ]
  },
  {
   "cell_type": "code",
   "execution_count": 22,
   "metadata": {},
   "outputs": [
    {
     "data": {
      "text/plain": [
       "tensor([[0.5010],\n",
       "        [0.5757],\n",
       "        [0.5969],\n",
       "        [0.5559],\n",
       "        [0.5681],\n",
       "        [0.5023],\n",
       "        [0.4752],\n",
       "        [0.4700],\n",
       "        [0.5191],\n",
       "        [0.5312],\n",
       "        [0.5298],\n",
       "        [0.5193],\n",
       "        [0.5147],\n",
       "        [0.5534],\n",
       "        [0.6009],\n",
       "        [0.4055],\n",
       "        [0.4408],\n",
       "        [0.5227],\n",
       "        [0.6206],\n",
       "        [0.4264],\n",
       "        [0.4056],\n",
       "        [0.4627],\n",
       "        [0.5199],\n",
       "        [0.5623],\n",
       "        [0.4284],\n",
       "        [0.4761],\n",
       "        [0.3942],\n",
       "        [0.4631],\n",
       "        [0.4865],\n",
       "        [0.4626],\n",
       "        [0.4296],\n",
       "        [0.4959],\n",
       "        [0.5132],\n",
       "        [0.3935],\n",
       "        [0.6505],\n",
       "        [0.4884],\n",
       "        [0.4855],\n",
       "        [0.4799],\n",
       "        [0.5032],\n",
       "        [0.4794],\n",
       "        [0.5207],\n",
       "        [0.5249],\n",
       "        [0.4394],\n",
       "        [0.4513],\n",
       "        [0.4807],\n",
       "        [0.4333],\n",
       "        [0.5241],\n",
       "        [0.4685],\n",
       "        [0.5468],\n",
       "        [0.5780],\n",
       "        [0.5000],\n",
       "        [0.5955],\n",
       "        [0.4366],\n",
       "        [0.4660],\n",
       "        [0.5192],\n",
       "        [0.6247],\n",
       "        [0.4018],\n",
       "        [0.4578],\n",
       "        [0.5508],\n",
       "        [0.4145],\n",
       "        [0.4582],\n",
       "        [0.6219],\n",
       "        [0.4624],\n",
       "        [0.5015],\n",
       "        [0.6286],\n",
       "        [0.4850],\n",
       "        [0.4276],\n",
       "        [0.5002],\n",
       "        [0.4597],\n",
       "        [0.4714],\n",
       "        [0.5452],\n",
       "        [0.4080],\n",
       "        [0.5514],\n",
       "        [0.5080],\n",
       "        [0.4193],\n",
       "        [0.4334],\n",
       "        [0.5224],\n",
       "        [0.5097],\n",
       "        [0.4126],\n",
       "        [0.5232],\n",
       "        [0.5875],\n",
       "        [0.4255],\n",
       "        [0.5064],\n",
       "        [0.5694],\n",
       "        [0.4038],\n",
       "        [0.5713],\n",
       "        [0.5377],\n",
       "        [0.5132],\n",
       "        [0.4485],\n",
       "        [0.5184],\n",
       "        [0.6195],\n",
       "        [0.5501],\n",
       "        [0.5512],\n",
       "        [0.4425],\n",
       "        [0.4768],\n",
       "        [0.5173],\n",
       "        [0.5362],\n",
       "        [0.5605],\n",
       "        [0.6007],\n",
       "        [0.5711]], grad_fn=<SigmoidBackward0>)"
      ]
     },
     "execution_count": 22,
     "metadata": {},
     "output_type": "execute_result"
    }
   ],
   "source": [
    "x = torch.rand(100, 10)\n",
    "model(x)"
   ]
  },
  {
   "cell_type": "code",
   "execution_count": 23,
   "metadata": {},
   "outputs": [
    {
     "name": "stdout",
     "output_type": "stream",
     "text": [
      "LinearClassifier(\n",
      "  (fc): Linear(in_features=10, out_features=4, bias=True)\n",
      ")\n",
      "Parameter containing:\n",
      "tensor([[ 0.1607,  0.0145, -0.0918,  0.1707,  0.1554, -0.1733,  0.2101,  0.2095,\n",
      "         -0.0396, -0.2819],\n",
      "        [ 0.2158, -0.2280,  0.1341,  0.1551,  0.2325,  0.2953,  0.0526,  0.2520,\n",
      "          0.1604, -0.2480],\n",
      "        [ 0.2747, -0.2214,  0.0460, -0.0340, -0.0589,  0.0882,  0.2284, -0.0333,\n",
      "         -0.1731,  0.1065],\n",
      "        [-0.2597, -0.2721, -0.0334, -0.1167, -0.3135, -0.2127, -0.1045,  0.1159,\n",
      "          0.0360, -0.1985]], requires_grad=True)\n",
      "Parameter containing:\n",
      "tensor([0.1250, 0.0310, 0.2078, 0.3030], requires_grad=True)\n",
      "tensor([0.2499, 0.4524, 0.2428, 0.0549], grad_fn=<SoftmaxBackward0>)\n"
     ]
    }
   ],
   "source": [
    "class LinearClassifier(torch.nn.Module):\n",
    "    def __init__(self, input_dim, n_classes) -> None:\n",
    "        super().__init__()\n",
    "        self.fc = torch.nn.Linear(input_dim, n_classes)\n",
    "\n",
    "    def forward(self, x) -> Tensor:\n",
    "        return nn.functional.softmax(self.fc(x), dim=-1)\n",
    "\n",
    "\n",
    "model = LinearClassifier(10, 4)\n",
    "print(model)\n",
    "print(model.fc.weight)\n",
    "print(model.fc.bias)\n",
    "x = torch.ones(10)\n",
    "print(model(x))"
   ]
  },
  {
   "cell_type": "code",
   "execution_count": 25,
   "metadata": {},
   "outputs": [
    {
     "data": {
      "text/plain": [
       "tensor([1.0000, 1.0000, 1.0000, 1.0000, 1.0000, 1.0000, 1.0000, 1.0000, 1.0000,\n",
       "        1.0000, 1.0000, 1.0000, 1.0000, 1.0000, 1.0000, 1.0000, 1.0000, 1.0000,\n",
       "        1.0000, 1.0000], grad_fn=<SumBackward1>)"
      ]
     },
     "execution_count": 25,
     "metadata": {},
     "output_type": "execute_result"
    }
   ],
   "source": [
    "x = torch.rand(20, 10)\n",
    "model(x).sum(dim=-1)"
   ]
  },
  {
   "cell_type": "code",
   "execution_count": 26,
   "metadata": {},
   "outputs": [
    {
     "name": "stdout",
     "output_type": "stream",
     "text": [
      "LinearClassifier(\n",
      "  (fc): Linear(in_features=10, out_features=4, bias=True)\n",
      ")\n",
      "Parameter containing:\n",
      "tensor([[ 0.2540, -0.2552, -0.1604,  0.3067,  0.2253,  0.2440,  0.2161, -0.1679,\n",
      "         -0.2981,  0.2688],\n",
      "        [-0.2490, -0.0090,  0.2673,  0.2871,  0.2868, -0.1420, -0.1721,  0.1614,\n",
      "         -0.3081,  0.1501],\n",
      "        [-0.0934, -0.1267,  0.0692,  0.0745, -0.0306, -0.2158,  0.0563,  0.2694,\n",
      "         -0.1208,  0.0156],\n",
      "        [ 0.1400,  0.1124, -0.1596,  0.3005, -0.1770,  0.2546,  0.1004, -0.0791,\n",
      "          0.2643, -0.0076]], requires_grad=True)\n",
      "Parameter containing:\n",
      "tensor([-0.0131, -0.0943, -0.1251,  0.0275], requires_grad=True)\n",
      "tensor([0.6502, 0.5444, 0.4434, 0.6849], grad_fn=<SigmoidBackward0>)\n"
     ]
    }
   ],
   "source": [
    "class LinearClassifier(torch.nn.Module):\n",
    "    def __init__(self, input_dim, n_classes) -> None:\n",
    "        super().__init__()\n",
    "        self.fc = torch.nn.Linear(input_dim, n_classes)\n",
    "\n",
    "    def forward(self, x) -> Tensor:\n",
    "        return nn.functional.sigmoid(self.fc(x))\n",
    "\n",
    "\n",
    "model = LinearClassifier(10, 4)\n",
    "print(model)\n",
    "print(model.fc.weight)\n",
    "print(model.fc.bias)\n",
    "x = torch.ones(10)\n",
    "print(model(x))"
   ]
  },
  {
   "cell_type": "code",
   "execution_count": 27,
   "metadata": {},
   "outputs": [
    {
     "data": {
      "text/plain": [
       "tensor([2.2269, 2.2121, 2.0604, 2.2888, 2.1063, 1.9913, 2.2050, 2.0772, 2.1242,\n",
       "        2.0577, 2.2180, 2.2210, 2.1193, 2.1943, 2.1203, 2.0955, 2.1737, 2.2020,\n",
       "        1.9623, 2.0911], grad_fn=<SumBackward1>)"
      ]
     },
     "execution_count": 27,
     "metadata": {},
     "output_type": "execute_result"
    }
   ],
   "source": [
    "x = torch.rand(20, 10)\n",
    "model(x).sum(dim=-1)"
   ]
  }
 ],
 "metadata": {
  "kernelspec": {
   "display_name": ".venv",
   "language": "python",
   "name": "python3"
  },
  "language_info": {
   "codemirror_mode": {
    "name": "ipython",
    "version": 3
   },
   "file_extension": ".py",
   "mimetype": "text/x-python",
   "name": "python",
   "nbconvert_exporter": "python",
   "pygments_lexer": "ipython3",
   "version": "3.12.3"
  }
 },
 "nbformat": 4,
 "nbformat_minor": 2
}
