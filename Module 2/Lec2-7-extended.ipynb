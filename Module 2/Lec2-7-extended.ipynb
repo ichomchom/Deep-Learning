{
 "cells": [
  {
   "cell_type": "code",
   "execution_count": null,
   "id": "b5100d33",
   "metadata": {
    "execution": {
     "iopub.execute_input": "2024-06-09T08:01:06.653548Z",
     "iopub.status.busy": "2024-06-09T08:01:06.653358Z",
     "iopub.status.idle": "2024-06-09T08:01:08.382011Z",
     "shell.execute_reply": "2024-06-09T08:01:08.381478Z"
    }
   },
   "outputs": [],
   "source": [
    "# Imports\n",
    "import torch\n",
    "import torch.nn as nn\n",
    "import torchvision"
   ]
  },
  {
   "cell_type": "code",
   "execution_count": null,
   "id": "95efa74a",
   "metadata": {
    "execution": {
     "iopub.execute_input": "2024-06-09T08:01:08.384998Z",
     "iopub.status.busy": "2024-06-09T08:01:08.384760Z",
     "iopub.status.idle": "2024-06-09T08:01:42.866176Z",
     "shell.execute_reply": "2024-06-09T08:01:42.865432Z"
    }
   },
   "outputs": [],
   "source": [
    "# Let's load the dataset\n",
    "device = torch.device(\"cuda\") if torch.cuda.is_available() else torch.device(\"cpu\")\n",
    "\n",
    "size = (64, 64)\n",
    "transform = torchvision.transforms.Compose([torchvision.transforms.Resize(size), torchvision.transforms.ToTensor()])\n",
    "train_dataset = list(torchvision.datasets.Flowers102(\"/tmp/flowers\", \"train\", transform=transform, download=True))\n",
    "test_dataset = list(torchvision.datasets.Flowers102(\"/tmp/flowers\", \"test\", transform=transform, download=True))\n",
    "\n",
    "train_images = torch.stack([img for img, _ in train_dataset], dim=0).to(device)\n",
    "test_images = torch.stack([img for img, _ in test_dataset], dim=0).to(device)\n",
    "train_labels = torch.tensor([label for _, label in train_dataset]).to(device)\n",
    "test_labels = torch.tensor([label for _, label in test_dataset]).to(device)\n",
    "\n",
    "# Let's make sure we only have two classes\n",
    "train_images, train_labels = train_images[train_labels < 2], train_labels[train_labels < 2]\n",
    "test_images, test_labels = test_images[test_labels < 2], test_labels[test_labels < 2]"
   ]
  },
  {
   "cell_type": "code",
   "execution_count": null,
   "id": "4e640fae",
   "metadata": {
    "execution": {
     "iopub.execute_input": "2024-06-09T08:01:42.870043Z",
     "iopub.status.busy": "2024-06-09T08:01:42.869812Z",
     "iopub.status.idle": "2024-06-09T08:01:43.334759Z",
     "shell.execute_reply": "2024-06-09T08:01:43.334230Z"
    }
   },
   "outputs": [],
   "source": [
    "def accuracy(pred: torch.Tensor, label: torch.Tensor) -> float:\n",
    "    return ((pred > 0.5) == label).float().mean().item()\n",
    "\n",
    "\n",
    "model = torch.nn.Linear(in_features=size[0] * size[1] * 3, out_features=1)\n",
    "model = model.to(device)\n",
    "\n",
    "loss_fn = nn.MSELoss()\n",
    "optim = torch.optim.SGD(model.parameters(), lr=1e-4)\n",
    "num_epochs = 500\n",
    "\n",
    "for epoch in range(num_epochs):\n",
    "    pred = model(train_images.view(train_images.shape[0], -1))[..., 0]\n",
    "    loss_val = loss_fn(pred, train_labels.float())\n",
    "\n",
    "    optim.zero_grad()\n",
    "    loss_val.backward()\n",
    "    optim.step()\n",
    "\n",
    "    if epoch % 25 == 0 or epoch == num_epochs - 1:\n",
    "        print(f\"{epoch =:5d}  loss = {loss_val.item():.2f}  accuracy(train) = {accuracy(pred, train_labels):.3f}\")\n",
    "\n",
    "    if epoch % 100 == 0 or epoch == num_epochs - 1:\n",
    "        with torch.inference_mode():\n",
    "            pred = model(test_images.view(test_images.shape[0], -1))[..., 0]\n",
    "            print(f\"   Accuracy (test): {accuracy(pred, test_labels):.3f}\")"
   ]
  },
  {
   "cell_type": "code",
   "execution_count": null,
   "id": "d11d11be",
   "metadata": {},
   "outputs": [],
   "source": []
  }
 ],
 "metadata": {
  "jupytext": {
   "notebook_metadata_filter": "title"
  },
  "kernelspec": {
   "display_name": "Python 3 (ipykernel)",
   "language": "python",
   "name": "python3"
  },
  "language_info": {
   "codemirror_mode": {
    "name": "ipython",
    "version": 3
   },
   "file_extension": ".py",
   "mimetype": "text/x-python",
   "name": "python",
   "nbconvert_exporter": "python",
   "pygments_lexer": "ipython3",
   "version": "3.11.5"
  },
  "title": "Linear Regression in PyTorch"
 },
 "nbformat": 4,
 "nbformat_minor": 5
}
