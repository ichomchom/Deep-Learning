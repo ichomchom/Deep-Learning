{
 "cells": [
  {
   "cell_type": "code",
   "execution_count": 1,
   "id": "7abd54be",
   "metadata": {
    "execution": {
     "iopub.execute_input": "2024-06-09T08:00:21.696290Z",
     "iopub.status.busy": "2024-06-09T08:00:21.696091Z",
     "iopub.status.idle": "2024-06-09T08:00:23.353822Z",
     "shell.execute_reply": "2024-06-09T08:00:23.353317Z"
    }
   },
   "outputs": [],
   "source": [
    "# Imports\n",
    "import torch\n",
    "import torch.nn as nn\n",
    "import torchvision"
   ]
  },
  {
   "cell_type": "code",
   "execution_count": 5,
   "id": "77ca801a",
   "metadata": {
    "execution": {
     "iopub.execute_input": "2024-06-09T08:00:23.357820Z",
     "iopub.status.busy": "2024-06-09T08:00:23.357502Z",
     "iopub.status.idle": "2024-06-09T08:00:57.351073Z",
     "shell.execute_reply": "2024-06-09T08:00:57.350267Z"
    }
   },
   "outputs": [],
   "source": [
    "# Let's load the dataset\n",
    "device = torch.device(\"cuda\") if torch.cuda.is_available() else torch.device(\"cpu\")\n",
    "\n",
    "size = (64, 64)\n",
    "transform = torchvision.transforms.Compose([torchvision.transforms.Resize(size), torchvision.transforms.ToTensor()])\n",
    "train_dataset = list(torchvision.datasets.Flowers102(\"../Module 1/flowers\", \"train\", transform=transform, download=True))\n",
    "test_dataset = list(torchvision.datasets.Flowers102(\"../Module 1/flowers\", \"test\", transform=transform, download=True))\n",
    "\n",
    "train_images = torch.stack([img for img, _ in train_dataset], dim=0).to(device)\n",
    "test_images = torch.stack([img for img, _ in test_dataset], dim=0).to(device)\n",
    "train_labels = torch.tensor([label for _, label in train_dataset]).to(device)\n",
    "test_labels = torch.tensor([label for _, label in test_dataset]).to(device)"
   ]
  },
  {
   "cell_type": "code",
   "execution_count": 6,
   "id": "2b3c0814",
   "metadata": {
    "execution": {
     "iopub.execute_input": "2024-06-09T08:00:57.355146Z",
     "iopub.status.busy": "2024-06-09T08:00:57.354923Z",
     "iopub.status.idle": "2024-06-09T08:00:57.940703Z",
     "shell.execute_reply": "2024-06-09T08:00:57.940071Z"
    },
    "lines_to_next_cell": 2
   },
   "outputs": [
    {
     "name": "stdout",
     "output_type": "stream",
     "text": [
      "epoch =    0  loss = 4.67  accuracy(train) = 0.011\n",
      "   Accuracy (test): 0.012\n",
      "epoch =   25  loss = 4.06  accuracy(train) = 0.279\n",
      "epoch =   50  loss = 3.63  accuracy(train) = 0.476\n",
      "epoch =   75  loss = 3.29  accuracy(train) = 0.596\n",
      "epoch =  100  loss = 3.00  accuracy(train) = 0.670\n",
      "   Accuracy (test): 0.131\n",
      "epoch =  125  loss = 2.76  accuracy(train) = 0.713\n",
      "epoch =  150  loss = 2.54  accuracy(train) = 0.749\n",
      "epoch =  175  loss = 2.36  accuracy(train) = 0.771\n",
      "epoch =  200  loss = 2.19  accuracy(train) = 0.794\n",
      "   Accuracy (test): 0.146\n",
      "epoch =  225  loss = 2.04  accuracy(train) = 0.810\n",
      "epoch =  250  loss = 1.91  accuracy(train) = 0.830\n",
      "epoch =  275  loss = 1.78  accuracy(train) = 0.850\n",
      "epoch =  300  loss = 1.67  accuracy(train) = 0.863\n",
      "   Accuracy (test): 0.152\n",
      "epoch =  325  loss = 1.57  accuracy(train) = 0.882\n",
      "epoch =  350  loss = 1.48  accuracy(train) = 0.899\n",
      "epoch =  375  loss = 1.39  accuracy(train) = 0.912\n",
      "epoch =  400  loss = 1.32  accuracy(train) = 0.918\n",
      "   Accuracy (test): 0.153\n",
      "epoch =  425  loss = 1.24  accuracy(train) = 0.925\n",
      "epoch =  450  loss = 1.18  accuracy(train) = 0.933\n",
      "epoch =  475  loss = 1.12  accuracy(train) = 0.941\n",
      "epoch =  499  loss = 1.06  accuracy(train) = 0.951\n",
      "   Accuracy (test): 0.152\n"
     ]
    }
   ],
   "source": [
    "def accuracy(pred: torch.Tensor, label: torch.Tensor) -> float:\n",
    "    return (pred.argmax(dim=-1) == label).float().mean().item()\n",
    "\n",
    "\n",
    "model = torch.nn.Linear(in_features=size[0] * size[1] * 3, out_features=102)\n",
    "model = model.to(device)\n",
    "\n",
    "loss_fn = nn.CrossEntropyLoss()\n",
    "optim = torch.optim.SGD(model.parameters(), lr=2e-2)\n",
    "num_epochs = 500\n",
    "\n",
    "for epoch in range(num_epochs):\n",
    "    pred = model(train_images.view(train_images.shape[0], -1))\n",
    "    loss_val = loss_fn(pred, train_labels)\n",
    "\n",
    "    optim.zero_grad()\n",
    "    loss_val.backward()\n",
    "    optim.step()\n",
    "\n",
    "    if epoch % 25 == 0 or epoch == num_epochs - 1:\n",
    "        print(f\"{epoch =:5d}  loss = {loss_val.item():.2f}  accuracy(train) = {accuracy(pred, train_labels):.3f}\")\n",
    "\n",
    "    if epoch % 100 == 0 or epoch == num_epochs - 1:\n",
    "        with torch.inference_mode():\n",
    "            pred = model(test_images.view(test_images.shape[0], -1))\n",
    "            print(f\"   Accuracy (test): {accuracy(pred, test_labels):.3f}\")"
   ]
  },
  {
   "cell_type": "code",
   "execution_count": null,
   "id": "13607a69",
   "metadata": {},
   "outputs": [],
   "source": []
  }
 ],
 "metadata": {
  "jupytext": {
   "notebook_metadata_filter": "title"
  },
  "kernelspec": {
   "display_name": ".venv",
   "language": "python",
   "name": "python3"
  },
  "language_info": {
   "codemirror_mode": {
    "name": "ipython",
    "version": 3
   },
   "file_extension": ".py",
   "mimetype": "text/x-python",
   "name": "python",
   "nbconvert_exporter": "python",
   "pygments_lexer": "ipython3",
   "version": "3.12.3"
  },
  "title": "Binary Logistic Regression in PyTorch"
 },
 "nbformat": 4,
 "nbformat_minor": 5
}
